{
  "cells": [
    {
      "cell_type": "markdown",
      "metadata": {
        "id": "view-in-github",
        "colab_type": "text"
      },
      "source": [
        "<a href=\"https://colab.research.google.com/github/ry-watanabe/whisper_in_colab/blob/main/Whisper_in_colab.ipynb\" target=\"_parent\"><img src=\"https://colab.research.google.com/assets/colab-badge.svg\" alt=\"Open In Colab\"/></a>"
      ]
    },
    {
      "cell_type": "markdown",
      "source": [
        "まずは使用するモジュールライブラリをインストールします。"
      ],
      "metadata": {
        "id": "goiCbC_WEQDu"
      }
    },
    {
      "cell_type": "code",
      "execution_count": null,
      "metadata": {
        "colab": {
          "base_uri": "https://localhost:8080/"
        },
        "id": "aRF001oimiV3",
        "outputId": "77b7d37d-f62e-4667-c1cf-22548c839ef1"
      },
      "outputs": [
        {
          "output_type": "stream",
          "name": "stdout",
          "text": [
            "Looking in indexes: https://pypi.org/simple, https://us-python.pkg.dev/colab-wheels/public/simple/\n",
            "Collecting langchain\n",
            "  Downloading langchain-0.0.144-py3-none-any.whl (578 kB)\n",
            "\u001b[2K     \u001b[90m━━━━━━━━━━━━━━━━━━━━━━━━━━━━━━━━━━━━━━\u001b[0m \u001b[32m578.5/578.5 kB\u001b[0m \u001b[31m31.9 MB/s\u001b[0m eta \u001b[36m0:00:00\u001b[0m\n",
            "\u001b[?25hRequirement already satisfied: requests<3,>=2 in /usr/local/lib/python3.9/dist-packages (from langchain) (2.27.1)\n",
            "Requirement already satisfied: pydantic<2,>=1 in /usr/local/lib/python3.9/dist-packages (from langchain) (1.10.7)\n",
            "Collecting openapi-schema-pydantic<2.0,>=1.2\n",
            "  Downloading openapi_schema_pydantic-1.2.4-py3-none-any.whl (90 kB)\n",
            "\u001b[2K     \u001b[90m━━━━━━━━━━━━━━━━━━━━━━━━━━━━━━━━━━━━━━━━\u001b[0m \u001b[32m90.0/90.0 kB\u001b[0m \u001b[31m13.0 MB/s\u001b[0m eta \u001b[36m0:00:00\u001b[0m\n",
            "\u001b[?25hRequirement already satisfied: PyYAML>=5.4.1 in /usr/local/lib/python3.9/dist-packages (from langchain) (6.0)\n",
            "Requirement already satisfied: tenacity<9.0.0,>=8.1.0 in /usr/local/lib/python3.9/dist-packages (from langchain) (8.2.2)\n",
            "Collecting async-timeout<5.0.0,>=4.0.0\n",
            "  Downloading async_timeout-4.0.2-py3-none-any.whl (5.8 kB)\n",
            "Collecting aiohttp<4.0.0,>=3.8.3\n",
            "  Downloading aiohttp-3.8.4-cp39-cp39-manylinux_2_17_x86_64.manylinux2014_x86_64.whl (1.0 MB)\n",
            "\u001b[2K     \u001b[90m━━━━━━━━━━━━━━━━━━━━━━━━━━━━━━━━━━━━━━━━\u001b[0m \u001b[32m1.0/1.0 MB\u001b[0m \u001b[31m64.6 MB/s\u001b[0m eta \u001b[36m0:00:00\u001b[0m\n",
            "\u001b[?25hCollecting dataclasses-json<0.6.0,>=0.5.7\n",
            "  Downloading dataclasses_json-0.5.7-py3-none-any.whl (25 kB)\n",
            "Collecting SQLAlchemy<2,>=1\n",
            "  Downloading SQLAlchemy-1.4.47-cp39-cp39-manylinux_2_5_x86_64.manylinux1_x86_64.manylinux_2_17_x86_64.manylinux2014_x86_64.whl (1.6 MB)\n",
            "\u001b[2K     \u001b[90m━━━━━━━━━━━━━━━━━━━━━━━━━━━━━━━━━━━━━━━━\u001b[0m \u001b[32m1.6/1.6 MB\u001b[0m \u001b[31m60.9 MB/s\u001b[0m eta \u001b[36m0:00:00\u001b[0m\n",
            "\u001b[?25hRequirement already satisfied: numpy<2,>=1 in /usr/local/lib/python3.9/dist-packages (from langchain) (1.22.4)\n",
            "Requirement already satisfied: numexpr<3.0.0,>=2.8.4 in /usr/local/lib/python3.9/dist-packages (from langchain) (2.8.4)\n",
            "Collecting multidict<7.0,>=4.5\n",
            "  Downloading multidict-6.0.4-cp39-cp39-manylinux_2_17_x86_64.manylinux2014_x86_64.whl (114 kB)\n",
            "\u001b[2K     \u001b[90m━━━━━━━━━━━━━━━━━━━━━━━━━━━━━━━━━━━━━━\u001b[0m \u001b[32m114.2/114.2 kB\u001b[0m \u001b[31m15.4 MB/s\u001b[0m eta \u001b[36m0:00:00\u001b[0m\n",
            "\u001b[?25hRequirement already satisfied: attrs>=17.3.0 in /usr/local/lib/python3.9/dist-packages (from aiohttp<4.0.0,>=3.8.3->langchain) (23.1.0)\n",
            "Collecting frozenlist>=1.1.1\n",
            "  Downloading frozenlist-1.3.3-cp39-cp39-manylinux_2_5_x86_64.manylinux1_x86_64.manylinux_2_17_x86_64.manylinux2014_x86_64.whl (158 kB)\n",
            "\u001b[2K     \u001b[90m━━━━━━━━━━━━━━━━━━━━━━━━━━━━━━━━━━━━━━\u001b[0m \u001b[32m158.8/158.8 kB\u001b[0m \u001b[31m17.2 MB/s\u001b[0m eta \u001b[36m0:00:00\u001b[0m\n",
            "\u001b[?25hCollecting yarl<2.0,>=1.0\n",
            "  Downloading yarl-1.8.2-cp39-cp39-manylinux_2_17_x86_64.manylinux2014_x86_64.whl (264 kB)\n",
            "\u001b[2K     \u001b[90m━━━━━━━━━━━━━━━━━━━━━━━━━━━━━━━━━━━━━━\u001b[0m \u001b[32m264.6/264.6 kB\u001b[0m \u001b[31m29.8 MB/s\u001b[0m eta \u001b[36m0:00:00\u001b[0m\n",
            "\u001b[?25hRequirement already satisfied: charset-normalizer<4.0,>=2.0 in /usr/local/lib/python3.9/dist-packages (from aiohttp<4.0.0,>=3.8.3->langchain) (2.0.12)\n",
            "Collecting aiosignal>=1.1.2\n",
            "  Downloading aiosignal-1.3.1-py3-none-any.whl (7.6 kB)\n",
            "Collecting typing-inspect>=0.4.0\n",
            "  Downloading typing_inspect-0.8.0-py3-none-any.whl (8.7 kB)\n",
            "Collecting marshmallow-enum<2.0.0,>=1.5.1\n",
            "  Downloading marshmallow_enum-1.5.1-py2.py3-none-any.whl (4.2 kB)\n",
            "Collecting marshmallow<4.0.0,>=3.3.0\n",
            "  Downloading marshmallow-3.19.0-py3-none-any.whl (49 kB)\n",
            "\u001b[2K     \u001b[90m━━━━━━━━━━━━━━━━━━━━━━━━━━━━━━━━━━━━━━━━\u001b[0m \u001b[32m49.1/49.1 kB\u001b[0m \u001b[31m6.0 MB/s\u001b[0m eta \u001b[36m0:00:00\u001b[0m\n",
            "\u001b[?25hRequirement already satisfied: typing-extensions>=4.2.0 in /usr/local/lib/python3.9/dist-packages (from pydantic<2,>=1->langchain) (4.5.0)\n",
            "Requirement already satisfied: urllib3<1.27,>=1.21.1 in /usr/local/lib/python3.9/dist-packages (from requests<3,>=2->langchain) (1.26.15)\n",
            "Requirement already satisfied: idna<4,>=2.5 in /usr/local/lib/python3.9/dist-packages (from requests<3,>=2->langchain) (3.4)\n",
            "Requirement already satisfied: certifi>=2017.4.17 in /usr/local/lib/python3.9/dist-packages (from requests<3,>=2->langchain) (2022.12.7)\n",
            "Requirement already satisfied: greenlet!=0.4.17 in /usr/local/lib/python3.9/dist-packages (from SQLAlchemy<2,>=1->langchain) (2.0.2)\n",
            "Requirement already satisfied: packaging>=17.0 in /usr/local/lib/python3.9/dist-packages (from marshmallow<4.0.0,>=3.3.0->dataclasses-json<0.6.0,>=0.5.7->langchain) (23.1)\n",
            "Collecting mypy-extensions>=0.3.0\n",
            "  Downloading mypy_extensions-1.0.0-py3-none-any.whl (4.7 kB)\n",
            "Installing collected packages: SQLAlchemy, mypy-extensions, multidict, marshmallow, frozenlist, async-timeout, yarl, typing-inspect, openapi-schema-pydantic, marshmallow-enum, aiosignal, dataclasses-json, aiohttp, langchain\n",
            "  Attempting uninstall: SQLAlchemy\n",
            "    Found existing installation: SQLAlchemy 2.0.9\n",
            "    Uninstalling SQLAlchemy-2.0.9:\n",
            "      Successfully uninstalled SQLAlchemy-2.0.9\n",
            "Successfully installed SQLAlchemy-1.4.47 aiohttp-3.8.4 aiosignal-1.3.1 async-timeout-4.0.2 dataclasses-json-0.5.7 frozenlist-1.3.3 langchain-0.0.144 marshmallow-3.19.0 marshmallow-enum-1.5.1 multidict-6.0.4 mypy-extensions-1.0.0 openapi-schema-pydantic-1.2.4 typing-inspect-0.8.0 yarl-1.8.2\n",
            "Looking in indexes: https://pypi.org/simple, https://us-python.pkg.dev/colab-wheels/public/simple/\n",
            "Collecting tiktoken\n",
            "  Downloading tiktoken-0.3.3-cp39-cp39-manylinux_2_17_x86_64.manylinux2014_x86_64.whl (1.7 MB)\n",
            "\u001b[2K     \u001b[90m━━━━━━━━━━━━━━━━━━━━━━━━━━━━━━━━━━━━━━━━\u001b[0m \u001b[32m1.7/1.7 MB\u001b[0m \u001b[31m65.6 MB/s\u001b[0m eta \u001b[36m0:00:00\u001b[0m\n",
            "\u001b[?25hRequirement already satisfied: regex>=2022.1.18 in /usr/local/lib/python3.9/dist-packages (from tiktoken) (2022.10.31)\n",
            "Requirement already satisfied: requests>=2.26.0 in /usr/local/lib/python3.9/dist-packages (from tiktoken) (2.27.1)\n",
            "Requirement already satisfied: urllib3<1.27,>=1.21.1 in /usr/local/lib/python3.9/dist-packages (from requests>=2.26.0->tiktoken) (1.26.15)\n",
            "Requirement already satisfied: charset-normalizer~=2.0.0 in /usr/local/lib/python3.9/dist-packages (from requests>=2.26.0->tiktoken) (2.0.12)\n",
            "Requirement already satisfied: certifi>=2017.4.17 in /usr/local/lib/python3.9/dist-packages (from requests>=2.26.0->tiktoken) (2022.12.7)\n",
            "Requirement already satisfied: idna<4,>=2.5 in /usr/local/lib/python3.9/dist-packages (from requests>=2.26.0->tiktoken) (3.4)\n",
            "Installing collected packages: tiktoken\n",
            "Successfully installed tiktoken-0.3.3\n",
            "Looking in indexes: https://pypi.org/simple, https://us-python.pkg.dev/colab-wheels/public/simple/\n",
            "Collecting openai\n",
            "  Downloading openai-0.27.4-py3-none-any.whl (70 kB)\n",
            "\u001b[2K     \u001b[90m━━━━━━━━━━━━━━━━━━━━━━━━━━━━━━━━━━━━━━━━\u001b[0m \u001b[32m70.3/70.3 kB\u001b[0m \u001b[31m9.3 MB/s\u001b[0m eta \u001b[36m0:00:00\u001b[0m\n",
            "\u001b[?25hRequirement already satisfied: requests>=2.20 in /usr/local/lib/python3.9/dist-packages (from openai) (2.27.1)\n",
            "Requirement already satisfied: tqdm in /usr/local/lib/python3.9/dist-packages (from openai) (4.65.0)\n",
            "Requirement already satisfied: aiohttp in /usr/local/lib/python3.9/dist-packages (from openai) (3.8.4)\n",
            "Requirement already satisfied: idna<4,>=2.5 in /usr/local/lib/python3.9/dist-packages (from requests>=2.20->openai) (3.4)\n",
            "Requirement already satisfied: certifi>=2017.4.17 in /usr/local/lib/python3.9/dist-packages (from requests>=2.20->openai) (2022.12.7)\n",
            "Requirement already satisfied: charset-normalizer~=2.0.0 in /usr/local/lib/python3.9/dist-packages (from requests>=2.20->openai) (2.0.12)\n",
            "Requirement already satisfied: urllib3<1.27,>=1.21.1 in /usr/local/lib/python3.9/dist-packages (from requests>=2.20->openai) (1.26.15)\n",
            "Requirement already satisfied: async-timeout<5.0,>=4.0.0a3 in /usr/local/lib/python3.9/dist-packages (from aiohttp->openai) (4.0.2)\n",
            "Requirement already satisfied: yarl<2.0,>=1.0 in /usr/local/lib/python3.9/dist-packages (from aiohttp->openai) (1.8.2)\n",
            "Requirement already satisfied: multidict<7.0,>=4.5 in /usr/local/lib/python3.9/dist-packages (from aiohttp->openai) (6.0.4)\n",
            "Requirement already satisfied: frozenlist>=1.1.1 in /usr/local/lib/python3.9/dist-packages (from aiohttp->openai) (1.3.3)\n",
            "Requirement already satisfied: attrs>=17.3.0 in /usr/local/lib/python3.9/dist-packages (from aiohttp->openai) (23.1.0)\n",
            "Requirement already satisfied: aiosignal>=1.1.2 in /usr/local/lib/python3.9/dist-packages (from aiohttp->openai) (1.3.1)\n",
            "Installing collected packages: openai\n",
            "Successfully installed openai-0.27.4\n",
            "Looking in indexes: https://pypi.org/simple, https://us-python.pkg.dev/colab-wheels/public/simple/\n",
            "Collecting git+https://github.com/openai/whisper.git\n",
            "  Cloning https://github.com/openai/whisper.git to /tmp/pip-req-build-8i21wg62\n",
            "  Running command git clone --filter=blob:none --quiet https://github.com/openai/whisper.git /tmp/pip-req-build-8i21wg62\n",
            "  Resolved https://github.com/openai/whisper.git to commit c09a7ae299c4c34c5839a76380ae407e7d785914\n",
            "  Installing build dependencies ... \u001b[?25l\u001b[?25hdone\n",
            "  Getting requirements to build wheel ... \u001b[?25l\u001b[?25hdone\n",
            "  Preparing metadata (pyproject.toml) ... \u001b[?25l\u001b[?25hdone\n",
            "Requirement already satisfied: torch in /usr/local/lib/python3.9/dist-packages (from openai-whisper==20230314) (2.0.0+cu118)\n",
            "Requirement already satisfied: tqdm in /usr/local/lib/python3.9/dist-packages (from openai-whisper==20230314) (4.65.0)\n",
            "Requirement already satisfied: triton==2.0.0 in /usr/local/lib/python3.9/dist-packages (from openai-whisper==20230314) (2.0.0)\n",
            "Requirement already satisfied: numba in /usr/local/lib/python3.9/dist-packages (from openai-whisper==20230314) (0.56.4)\n",
            "Collecting tiktoken==0.3.1\n",
            "  Downloading tiktoken-0.3.1-cp39-cp39-manylinux_2_17_x86_64.manylinux2014_x86_64.whl (1.7 MB)\n",
            "\u001b[2K     \u001b[90m━━━━━━━━━━━━━━━━━━━━━━━━━━━━━━━━━━━━━━━━\u001b[0m \u001b[32m1.7/1.7 MB\u001b[0m \u001b[31m32.5 MB/s\u001b[0m eta \u001b[36m0:00:00\u001b[0m\n",
            "\u001b[?25hRequirement already satisfied: more-itertools in /usr/local/lib/python3.9/dist-packages (from openai-whisper==20230314) (9.1.0)\n",
            "Collecting ffmpeg-python==0.2.0\n",
            "  Downloading ffmpeg_python-0.2.0-py3-none-any.whl (25 kB)\n",
            "Requirement already satisfied: numpy in /usr/local/lib/python3.9/dist-packages (from openai-whisper==20230314) (1.22.4)\n",
            "Requirement already satisfied: future in /usr/local/lib/python3.9/dist-packages (from ffmpeg-python==0.2.0->openai-whisper==20230314) (0.18.3)\n",
            "Requirement already satisfied: regex>=2022.1.18 in /usr/local/lib/python3.9/dist-packages (from tiktoken==0.3.1->openai-whisper==20230314) (2022.10.31)\n",
            "Requirement already satisfied: requests>=2.26.0 in /usr/local/lib/python3.9/dist-packages (from tiktoken==0.3.1->openai-whisper==20230314) (2.27.1)\n",
            "Requirement already satisfied: filelock in /usr/local/lib/python3.9/dist-packages (from triton==2.0.0->openai-whisper==20230314) (3.11.0)\n",
            "Requirement already satisfied: lit in /usr/local/lib/python3.9/dist-packages (from triton==2.0.0->openai-whisper==20230314) (16.0.1)\n",
            "Requirement already satisfied: cmake in /usr/local/lib/python3.9/dist-packages (from triton==2.0.0->openai-whisper==20230314) (3.25.2)\n",
            "Requirement already satisfied: setuptools in /usr/local/lib/python3.9/dist-packages (from numba->openai-whisper==20230314) (67.6.1)\n",
            "Requirement already satisfied: llvmlite<0.40,>=0.39.0dev0 in /usr/local/lib/python3.9/dist-packages (from numba->openai-whisper==20230314) (0.39.1)\n",
            "Requirement already satisfied: typing-extensions in /usr/local/lib/python3.9/dist-packages (from torch->openai-whisper==20230314) (4.5.0)\n",
            "Requirement already satisfied: networkx in /usr/local/lib/python3.9/dist-packages (from torch->openai-whisper==20230314) (3.1)\n",
            "Requirement already satisfied: jinja2 in /usr/local/lib/python3.9/dist-packages (from torch->openai-whisper==20230314) (3.1.2)\n",
            "Requirement already satisfied: sympy in /usr/local/lib/python3.9/dist-packages (from torch->openai-whisper==20230314) (1.11.1)\n",
            "Requirement already satisfied: certifi>=2017.4.17 in /usr/local/lib/python3.9/dist-packages (from requests>=2.26.0->tiktoken==0.3.1->openai-whisper==20230314) (2022.12.7)\n",
            "Requirement already satisfied: charset-normalizer~=2.0.0 in /usr/local/lib/python3.9/dist-packages (from requests>=2.26.0->tiktoken==0.3.1->openai-whisper==20230314) (2.0.12)\n",
            "Requirement already satisfied: urllib3<1.27,>=1.21.1 in /usr/local/lib/python3.9/dist-packages (from requests>=2.26.0->tiktoken==0.3.1->openai-whisper==20230314) (1.26.15)\n",
            "Requirement already satisfied: idna<4,>=2.5 in /usr/local/lib/python3.9/dist-packages (from requests>=2.26.0->tiktoken==0.3.1->openai-whisper==20230314) (3.4)\n",
            "Requirement already satisfied: MarkupSafe>=2.0 in /usr/local/lib/python3.9/dist-packages (from jinja2->torch->openai-whisper==20230314) (2.1.2)\n",
            "Requirement already satisfied: mpmath>=0.19 in /usr/local/lib/python3.9/dist-packages (from sympy->torch->openai-whisper==20230314) (1.3.0)\n",
            "Building wheels for collected packages: openai-whisper\n",
            "  Building wheel for openai-whisper (pyproject.toml) ... \u001b[?25l\u001b[?25hdone\n",
            "  Created wheel for openai-whisper: filename=openai_whisper-20230314-py3-none-any.whl size=798038 sha256=4f3d9d029eab163c4ccd9ec72184009a4dceea2acb83740f7df56c0b8146087b\n",
            "  Stored in directory: /tmp/pip-ephem-wheel-cache-9zydy_iu/wheels/fe/03/29/e7919208d11b4ab32972cb448bb84a9a675d92cd52c9a48341\n",
            "Successfully built openai-whisper\n",
            "Installing collected packages: ffmpeg-python, tiktoken, openai-whisper\n",
            "  Attempting uninstall: tiktoken\n",
            "    Found existing installation: tiktoken 0.3.3\n",
            "    Uninstalling tiktoken-0.3.3:\n",
            "      Successfully uninstalled tiktoken-0.3.3\n",
            "Successfully installed ffmpeg-python-0.2.0 openai-whisper-20230314 tiktoken-0.3.1\n"
          ]
        }
      ],
      "source": [
        "!pip install langchain\n",
        "!pip install tiktoken\n",
        "!pip install openai\n",
        "!pip install git+https://github.com/openai/whisper.git"
      ]
    },
    {
      "cell_type": "markdown",
      "source": [
        "次に文字起こしを行いたい音声ファイルをアップロードします。アップロードには少々お時間が必要です。"
      ],
      "metadata": {
        "id": "hjbFVAa-Eb4u"
      }
    },
    {
      "cell_type": "code",
      "source": [
        "from google.colab import files\n",
        "\n",
        "input_file = files.upload()"
      ],
      "metadata": {
        "colab": {
          "base_uri": "https://localhost:8080/",
          "height": 78
        },
        "id": "RirH8WBGCEf2",
        "outputId": "01e86725-3da2-4f29-aa62-0ab87a17c325"
      },
      "execution_count": 1,
      "outputs": [
        {
          "output_type": "display_data",
          "data": {
            "text/plain": [
              "<IPython.core.display.HTML object>"
            ],
            "text/html": [
              "\n",
              "     <input type=\"file\" id=\"files-8f12efaf-5d73-4147-b2c9-ba3f575199cd\" name=\"files[]\" multiple disabled\n",
              "        style=\"border:none\" />\n",
              "     <output id=\"result-8f12efaf-5d73-4147-b2c9-ba3f575199cd\">\n",
              "      Upload widget is only available when the cell has been executed in the\n",
              "      current browser session. Please rerun this cell to enable.\n",
              "      </output>\n",
              "      <script>// Copyright 2017 Google LLC\n",
              "//\n",
              "// Licensed under the Apache License, Version 2.0 (the \"License\");\n",
              "// you may not use this file except in compliance with the License.\n",
              "// You may obtain a copy of the License at\n",
              "//\n",
              "//      http://www.apache.org/licenses/LICENSE-2.0\n",
              "//\n",
              "// Unless required by applicable law or agreed to in writing, software\n",
              "// distributed under the License is distributed on an \"AS IS\" BASIS,\n",
              "// WITHOUT WARRANTIES OR CONDITIONS OF ANY KIND, either express or implied.\n",
              "// See the License for the specific language governing permissions and\n",
              "// limitations under the License.\n",
              "\n",
              "/**\n",
              " * @fileoverview Helpers for google.colab Python module.\n",
              " */\n",
              "(function(scope) {\n",
              "function span(text, styleAttributes = {}) {\n",
              "  const element = document.createElement('span');\n",
              "  element.textContent = text;\n",
              "  for (const key of Object.keys(styleAttributes)) {\n",
              "    element.style[key] = styleAttributes[key];\n",
              "  }\n",
              "  return element;\n",
              "}\n",
              "\n",
              "// Max number of bytes which will be uploaded at a time.\n",
              "const MAX_PAYLOAD_SIZE = 100 * 1024;\n",
              "\n",
              "function _uploadFiles(inputId, outputId) {\n",
              "  const steps = uploadFilesStep(inputId, outputId);\n",
              "  const outputElement = document.getElementById(outputId);\n",
              "  // Cache steps on the outputElement to make it available for the next call\n",
              "  // to uploadFilesContinue from Python.\n",
              "  outputElement.steps = steps;\n",
              "\n",
              "  return _uploadFilesContinue(outputId);\n",
              "}\n",
              "\n",
              "// This is roughly an async generator (not supported in the browser yet),\n",
              "// where there are multiple asynchronous steps and the Python side is going\n",
              "// to poll for completion of each step.\n",
              "// This uses a Promise to block the python side on completion of each step,\n",
              "// then passes the result of the previous step as the input to the next step.\n",
              "function _uploadFilesContinue(outputId) {\n",
              "  const outputElement = document.getElementById(outputId);\n",
              "  const steps = outputElement.steps;\n",
              "\n",
              "  const next = steps.next(outputElement.lastPromiseValue);\n",
              "  return Promise.resolve(next.value.promise).then((value) => {\n",
              "    // Cache the last promise value to make it available to the next\n",
              "    // step of the generator.\n",
              "    outputElement.lastPromiseValue = value;\n",
              "    return next.value.response;\n",
              "  });\n",
              "}\n",
              "\n",
              "/**\n",
              " * Generator function which is called between each async step of the upload\n",
              " * process.\n",
              " * @param {string} inputId Element ID of the input file picker element.\n",
              " * @param {string} outputId Element ID of the output display.\n",
              " * @return {!Iterable<!Object>} Iterable of next steps.\n",
              " */\n",
              "function* uploadFilesStep(inputId, outputId) {\n",
              "  const inputElement = document.getElementById(inputId);\n",
              "  inputElement.disabled = false;\n",
              "\n",
              "  const outputElement = document.getElementById(outputId);\n",
              "  outputElement.innerHTML = '';\n",
              "\n",
              "  const pickedPromise = new Promise((resolve) => {\n",
              "    inputElement.addEventListener('change', (e) => {\n",
              "      resolve(e.target.files);\n",
              "    });\n",
              "  });\n",
              "\n",
              "  const cancel = document.createElement('button');\n",
              "  inputElement.parentElement.appendChild(cancel);\n",
              "  cancel.textContent = 'Cancel upload';\n",
              "  const cancelPromise = new Promise((resolve) => {\n",
              "    cancel.onclick = () => {\n",
              "      resolve(null);\n",
              "    };\n",
              "  });\n",
              "\n",
              "  // Wait for the user to pick the files.\n",
              "  const files = yield {\n",
              "    promise: Promise.race([pickedPromise, cancelPromise]),\n",
              "    response: {\n",
              "      action: 'starting',\n",
              "    }\n",
              "  };\n",
              "\n",
              "  cancel.remove();\n",
              "\n",
              "  // Disable the input element since further picks are not allowed.\n",
              "  inputElement.disabled = true;\n",
              "\n",
              "  if (!files) {\n",
              "    return {\n",
              "      response: {\n",
              "        action: 'complete',\n",
              "      }\n",
              "    };\n",
              "  }\n",
              "\n",
              "  for (const file of files) {\n",
              "    const li = document.createElement('li');\n",
              "    li.append(span(file.name, {fontWeight: 'bold'}));\n",
              "    li.append(span(\n",
              "        `(${file.type || 'n/a'}) - ${file.size} bytes, ` +\n",
              "        `last modified: ${\n",
              "            file.lastModifiedDate ? file.lastModifiedDate.toLocaleDateString() :\n",
              "                                    'n/a'} - `));\n",
              "    const percent = span('0% done');\n",
              "    li.appendChild(percent);\n",
              "\n",
              "    outputElement.appendChild(li);\n",
              "\n",
              "    const fileDataPromise = new Promise((resolve) => {\n",
              "      const reader = new FileReader();\n",
              "      reader.onload = (e) => {\n",
              "        resolve(e.target.result);\n",
              "      };\n",
              "      reader.readAsArrayBuffer(file);\n",
              "    });\n",
              "    // Wait for the data to be ready.\n",
              "    let fileData = yield {\n",
              "      promise: fileDataPromise,\n",
              "      response: {\n",
              "        action: 'continue',\n",
              "      }\n",
              "    };\n",
              "\n",
              "    // Use a chunked sending to avoid message size limits. See b/62115660.\n",
              "    let position = 0;\n",
              "    do {\n",
              "      const length = Math.min(fileData.byteLength - position, MAX_PAYLOAD_SIZE);\n",
              "      const chunk = new Uint8Array(fileData, position, length);\n",
              "      position += length;\n",
              "\n",
              "      const base64 = btoa(String.fromCharCode.apply(null, chunk));\n",
              "      yield {\n",
              "        response: {\n",
              "          action: 'append',\n",
              "          file: file.name,\n",
              "          data: base64,\n",
              "        },\n",
              "      };\n",
              "\n",
              "      let percentDone = fileData.byteLength === 0 ?\n",
              "          100 :\n",
              "          Math.round((position / fileData.byteLength) * 100);\n",
              "      percent.textContent = `${percentDone}% done`;\n",
              "\n",
              "    } while (position < fileData.byteLength);\n",
              "  }\n",
              "\n",
              "  // All done.\n",
              "  yield {\n",
              "    response: {\n",
              "      action: 'complete',\n",
              "    }\n",
              "  };\n",
              "}\n",
              "\n",
              "scope.google = scope.google || {};\n",
              "scope.google.colab = scope.google.colab || {};\n",
              "scope.google.colab._files = {\n",
              "  _uploadFiles,\n",
              "  _uploadFilesContinue,\n",
              "};\n",
              "})(self);\n",
              "</script> "
            ]
          },
          "metadata": {}
        },
        {
          "output_type": "stream",
          "name": "stdout",
          "text": [
            "Saving dedce00f4d4e42f9.m4a to dedce00f4d4e42f9.m4a\n"
          ]
        }
      ]
    },
    {
      "cell_type": "markdown",
      "source": [
        "アップロード完了後、LangChainの事前準備を行います。LangChainとは長文を読み込ませ、要約を行うために利用します。"
      ],
      "metadata": {
        "id": "erbLvG0DEPFB"
      }
    },
    {
      "cell_type": "code",
      "source": [
        "from langchain.document_loaders.image import UnstructuredImageLoader\n",
        "from langchain import OpenAI, PromptTemplate, LLMChain\n",
        "from langchain.text_splitter import RecursiveCharacterTextSplitter\n",
        "from langchain.chains.summarize import load_summarize_chain\n",
        "from langchain.docstore.document import Document\n",
        "from langchain.chat_models import ChatOpenAI\n",
        "import os\n",
        "\n",
        "os.environ[\"OPENAI_API_KEY\"] = \"***\"\n",
        "llm = ChatOpenAI(model_name=\"gpt-3.5-turbo\", temperature=0, max_tokens=1500)\n",
        "text_splitter = RecursiveCharacterTextSplitter(chunk_size=1500)"
      ],
      "metadata": {
        "id": "PbgE4wQvNT0F"
      },
      "execution_count": null,
      "outputs": []
    },
    {
      "cell_type": "markdown",
      "source": [
        "さて、それではここから文字起こしを行います。ここで使用するWhisperはローカル上で文字起こしを行うためにモジュール自体をインストールしています。"
      ],
      "metadata": {
        "id": "0VNOqLJfE1M4"
      }
    },
    {
      "cell_type": "code",
      "source": [
        "import whisper \n",
        "model = whisper.load_model(\"large\")\n",
        "result = model.transcribe(input_file)\n",
        "print(result[\"text\"])"
      ],
      "metadata": {
        "colab": {
          "base_uri": "https://localhost:8080/"
        },
        "id": "SYwLOw2inrDw",
        "outputId": "d22ee18e-3216-4bc0-c934-c179aa558f4f"
      },
      "execution_count": null,
      "outputs": [
        {
          "output_type": "stream",
          "name": "stderr",
          "text": [
            "100%|█████████████████████████████████████| 2.87G/2.87G [03:22<00:00, 15.2MiB/s]\n"
          ]
        },
        {
          "output_type": "stream",
          "name": "stdout",
          "text": [
            "あれだと思うんで大丈夫そうかなこの後なんですけど、書類とか色々書いてもらったと思うんでこの後は本当に難しいこととか一切ないので安心してください今日お休み?ありがとうございました車内会帰れました?ちゃんと帰りましたよかったありがとうございましたごめんなさい最後の方私めっちゃ酔っ払ってもう本当にちゃうねみたいな感じで楽しかったですすいません楽しかったですすいません本当にちょっと今日この後やりたいなって思ってるのがまず会社?入社してどんなことをまず事務的なところと会社の雰囲気みたいなところ多分さっき竹井さんから聞いたと思うんだけどまだ分からない部分とかあるかなって思ってるのでちょっとオンボイディングじゃないんですけど入社前のご案内というところをしてもう一つロードマップでこれからどんなキャリアを選んだらいいか分からないみたいなところちょっとぼんやりしてるかなと思うのでそういったところちょっとキャリア面のお話させていただいて安井さんの方から今後の具体的な動きみたいなところ伝えていくみたいな感じにしたいなと思ってますはいお願いしますただ飲み物飲んでくださいっていう感じですちなみに竹井さんとは今後の流れの話とかしました?まだこれからあるんです手続きが終わったっていう手続きしましたよかったよかったOKですちょっと本当にこの間の備え会で多分雰囲気見てもらったと思うのとどっちかっていうと私ほぼほぼ同期なので私も皆さんに助けられながら仕事してるのでどっちかっていうと私に頑張りましょうの目線なんですけどじゃあ新社のオンボイディングみたいな前の会社もやりました?やってないですあそうなんだ改めてなんですけどようこそっていう感じでプレイリストを本当に気に入りを創出していくっていうのをビジョンの元みんながお仕事していて新しい選択肢ですねバスタブルもそうだし企業さんに対してもITの力だったりとか自分のスキルの幅を増やすことで自分の選択肢も企業さんの選択肢も増やしていくそんな会社でやりたいなみたいなことを思っていますこういう資料みたいなのってもしかしたらフェアボクロとか見ました?はいいただきましたよかったーそうなんだよみんなこの思いを持って働いてますよみたいなところを改めてお伝えしたいなと思っていてこの資料を入社されてからの方がいいのかなと思ってるんですけど入社したらまたお渡しというかみんなが見れるところに置いてあるのでいつでも見てほしいなと思うんですけどちょっと会社の概要だったりとか会社の社内ツールだったりとか実際に働いてからの勤怠とか経費生産とかリアルなところのやり方のマニュアルみたいなのも入っているので後でちょっと目を通していただきたいなと思っていますディスコードの話とか社内ツールの話とかって結構武井さんからいろいろ聞きました?社内ツールの話聞いてないと思いますOKでしたちょっとそこから本当に具体的にプレイリストで働くにあたってみたいなお話になってくるんですけど最初はプロジェクトに多分配属されるのでプレイリストのオフィスで働くわけじゃなくって配属先でお仕事することになると思うので不安とかあります?大丈夫?少し不安です不安ですよね野生さんとかがすごいサポートしてくれて私も社内にいるので何かあったら連絡くださいとはあるんですけどやっぱり連絡するときって結構勇気がいるというかだと思うので基本的にこの社内ツールのディスコード今入ってもらっているディスコードのもう一つのターミナルプレイリストで本当にありがとうございます出てきそうこんな感じで今入ってもらっているのがインプレイリストなんだけど本ちゃんのプレイリスト株式会社というのがあってここのチャンネルの中でみんなで会話したりとかご仕事するときに自分のお部屋に入ってそこで作業するとかにすると例えばお部屋に入っていただくと例えば大沢さん今マイクはオフにしているけど多分耳は聞こえる状態になっていると思うのでこのお部屋にドンって入ってもらえれば大沢さん聞いてもらってもいいですか?みたいなことができるような状態これ出社すると基本的にはオフィスにいるのでそういったことができないと思うんですけどリモート環境になった時に一人で黙々と作業するのは結構きつかったりすると思うのでそういったところでコミュニケーションがされるような感じになっていますお部屋たくさんあるのでそれは入社されたタイミングとかでお話ししたいなと思っているんですけどこういったところを使ってあとはアナウンス記者会この日にやりますよとかみんなこれちょっと確認してねみたいなこと社外周りの連絡事項だったりとかそういったことも全てこのDiscordの中でやり取りしていて携帯にも今私入れているんですけど携帯からも見れるので会社の人とやり取りしたいなということとかもし聞いてくださいとかそういったことがあったら基本的にはDiscordを見ていただくと雑談だったり相談だったり進捗確認だったりそういったことができますちなみに入社されてからだんだんお仕事慣れてきたら技術をちょっと向上させるための研修だったりとかも私たちやっているのでそういった時にはみんな研修のお部屋を作ってうち昼間さんとか動いてたと思うんですけどちょっと自分でコード書いたりとかこの宿題やってみたのでレビューお願いしますみたいなのを書いてくれると大沢さんとかうちでリードって呼ばれている先輩エンジニアがちゃんと拾ってここいいねとかここちょっと変えるといいよとかそういうのを教えてくれるのでなのでお仕事はもちろん外の先でやってもらうんだけどプレイリストとしてめちゃくちゃサポートするのでそういったところでコミュニケーションが取れたらなという風に思っていますそんな感じでDiscordを使っていてお部屋の紹介とかもあるのでこの資料後で見ていただきたいなという風に思いますあともう一つNotionって使ったことあります?初めてですよねありがとうございますプレイリストとかおもしろいですからプレイリストっていうお仕事をする上でDiscordはコミュニケーション誰かと何か話す時とかに使ったりとかこれチェックしてねってアナウンス流れるんですけど溜めておきたいなとかみんなに必ず見てほしいなとかどんな人で言っていいみたいなこととか社内のあります?ホームページみたいなの今の会社のホームページホームページというか社内の連絡事項が書いてあるページみたいなのがあったりとかポータルサイトみたいなポータルサイトみたいなのあります?あったですそうなんだJLの中とかもしかしたら結構あるのかなと思ったありがとうございますそんな感じでNotionっていってメモ帳機能みたいなのがうちで使っているものでDiscordはポータルサイトの感じで使っているんですけど自分でカスタマイズとかもできちゃうので追加であげるとかそういったことも一緒にできます社内のメンバーどんな人がいるのかなとかあと社内報というところで自己紹介したり今思っていることこれですみたいなこととかここで貯めておくストックできるようなものになっているのでプレイリストで働く上で気になるなということは大体ここに来ると解決できるかなと思いますそんなものを使って自分で見ながらでもプレイリストとしてつながっているみたいなことをやったりしていますあとGoogleとかそういうのってJの時って使わないです使ってなかったりそうですよね全部カレンダーというかスケジュールの共有だったりとかはGoogleのものを使っているのでそれも結構慣れたところがあるかなと思うのでちょっとお見せするとなんか大きくなっちゃっているそんな感じでその日の予定とかみんなと何をやっているのかな社内メンバー何をやっているのかなというのが見れるのでそんなところで共有をしておりますGoogleドライブを使ってファイルの管理をしたりとかそういったことをやっていますマイドライブGoogleのドライブちなみに自分のGoogleのドライブ使ったことあります?はい初めて見たようなありがとうございますGoogleの自分のアドレスGmailのアドレスを作るといろんな機能がGoogleさん提供してくれるんですよ検索機能だけじゃなくてGoogleマップとかもなんですけどメールしたりとかフォルダ作れたりカレンダーさっきもやったりとかGoogleの自分のメールアドレスIDがあるとGoogleの中でいろんな機能を提供してくれるのでその中でGoogleのドライブというファイル機能を使って私たちプレイリストのメンバーしか見れないフォルダというのを共有してこの中でこれを見ておいてくださいねとか資料を確認してくださいねみたいなものを使っているので今日の今日でわからないことがあって全然大丈夫なんですけどその中に就業規則とか載っていたりするのでそうなのでさっきのハイプレイリストというところとGoogleのドライブフォルダの中でプレイリストのやり取りというか必要書類とか確認したいことがあった時というのは解決できるかなと思いますなのでツールの使い方の時点で結構最初苦労すると思うのでその時は何でも聞いてもらえれば画面つなげてお話したりとかそれこそ出張しても失敗するとか全然やるのでそこをつまづくと仕事をすると何をやったらいいんだろうとなると思うので納書とかは先に私が難しいので見たりになってから見るとやっぱりそうですねプロジェクト始まってから見ることになるかもちょっとわからないなということがあったらすぐ投げ込んでくださいそんな感じですあとそうですねお仕事するのはICSの海賊先というかプロジェクト先でお仕事するんだけども実際に9時から6時までお仕事しましたみたいなそういう近帯お仕事する上でのタイムシートじゃないですけどそういうのはうちに報告をしたりとかあと交通費とかなんか飲み物買いました飲み物って何だろう飲み物じゃないねちょっと社員同士でランチ代って福井構成で出るのでなんかその時にちょっとミランチミーティングしましたとかそういう経費だったりとかそういったものが私たちの方からプレイリストの方からお支払いすることになるので私たちに申請が必要になるんです今ちなみにどうやってタイムシートとかですかタイムシートは貼ってあります貼ってます?切るタイプなんですか?切るタイプです切りみたいなすごいもう私たちはアプリで簡単にその場でできるのでこのアプリとか聞いたことあります?フリーの人事ソフトっていうさっき拓生さんから聞いてそこでお支払いしてみましたよかったもう一つちょっと似てるんですけど会計用のソフトもあるのでこのアプリ入れてもらってその場で毎日9時から6時から働きました卒業しましたとかそういったところを入れていただくのとあともう一つExcelとかも使ってました?はい少しだけありがとうございますExcelとちょっと似てるようなソフトウェットシートってGoogleが提供してるExcelみたいなシートがあってその2つで報告してもらってるのでやり方はちょっとイニシャされてからでいいですよね今お伝えしているツールの説明をまとめてやる時間をまた設けようかなと思うので有償ショップ前くらいにお願いさせていただくことがあるかもしれませんもしプロジェクトが始まるといろいろなプロジェクトの方に力を注いでもらって時間を使っていただくことになると思うので入社前の5月下旬くらいにお時間いただければと思います今日こんなことやるよ説明でちょっと定めようかなと思うんですけど経費も流れとしてはこんな経費使いたいです例えば中村さんと私ランチ行きたいですっていうのをみんなに報告して上の人たちからいいよそれで経費落としちゃっていいよっていう許可をもらったらちゃんと申請をするっていう流れになるのでそこもツールをいくつか使うことになると思うのでちょっとそれで経費精査をするんだなっていうところあと有給休暇もう本当に入社して半年間経てば10日間つくのでちゃんと5日間は絶対使い切らなきゃいけない絶対使い切らなきゃいけないっていう国のルールもあるのでリフレッシュがあったら使ってほしいなと思うのでそれも皆さんに私この日休むのでっていう連絡をもらって休んで休んでっていう許可をもらって支援するっていうところで中村さん休みなんだなっていうのを確認するためにカレンダーで共有するみたいな流れをとっているので基本的に申請をすることに関しては事前に許可をもらっていいよって言われたら休むとか経費使うとか基本休むとかもねダメとかいうことはないんですけどプロジェクト先がめっちゃ忙しい休めないなみたいなこととか逆にめっちゃ休まなきゃいけないようであるけど言いづらいとかがあればちょっと休みにつながってやってもらえると相談のってくれるかなと思うので月末にちゃんと毎月お給与いただくためにちゃんと申請できてるかなってチェックをしなきゃいけないので基本的に毎日勤怠報告とか使うたんびに経費の報告をするけども月末にもう一回ちゃんとチェック用のシートがあるのでその使い方とかはまたしっかりお伝えしますそうやってみんな過ごしてるんだなって思ってもらってマニュアルがちょっとあるので入社してからちょっと見ていただけたら嬉しいなと思いますそこにマニュアルがそうなんですマニュアルちょっとくっつけちゃいましたありがとうございますあと、比較的プレイリストでお仕事するのであれば他の会社さんでお仕事してるメンバーとかもたくさんいると思うんですけどせっかくであればプレイリストならではのことにもいっぱい取り組んでほしいなと思ってて黙々会って言ってちょっとみんなで黙々作業するだけ勉強するだけの時間みたいなのも一応これ任意なので絶対じゃないんですけど最近日程とかまたバラバラになってきてるのでみんなでやること宣言して今日私これ勉強しますって言って分かんないことがあった時先生もそう教えてくださいとかができるようなこういったイベントチックなことをやったりとか研修がこれから始まったりとかもしてプロジェクトを実際にやって多分すごい仕事忙しいと思うのでまずはそっち集中してもらってちょっともうちょっと時間空いてきたなとかスキルアップしなきゃなみたいなタイミングの時とかに私たちからも声がけさせてもらったりするのでエンジニアの先輩と一緒にじゃあこのステップで進めていきましょうみたいな感じでちょっとスキルアップの研修を一緒にやっていく感じになりますこれもディスコードの中でちょっと連絡やり取りとかするのでなんでちょっと後ほどなんですけどディスコードの使い方とかはしっかりお伝えしたいなと思いますあと聞いてるとは思うんだけどもう一回ちょっと月に一回記者会この間参加してもらったやつで飲み会とかもちろん任意参加なんだけども基本的にみんなで勉強したりとか社内の共有事項確認したりとか最近どう?みたいな話したりとかそういったことのために毎月第2金曜日みんなで集まっているのでプロジェクト先お休みして出社してもらうときに出社してもらうようなイベントになるのでそこもちょっと今後調整しながらやっていけたらなと聞きたいこととかあります?大丈夫ですめっちゃ一向的に喋ってるんですけどごめんなさいあと自由参加のこういうイベントとかやっててこの間も花見やったりとかなんか年子?そうですそうです初詣初詣されたりとかやったりとかしてるのでもしちょっとエンジニア先輩ともうちょっと喋りたいなとかぜひ参加してください実は6月23日が創業日なので創業のときイベント企画してくれてるみたいなのでぜひ参加できたら嬉しいなみたいな風に思ってますあと色んなSNSやってるのでよかったらいいね押してもらえたりとか逆に運用こんなことやったらいいんじゃないですかとかだったらめっちゃやってるSNS見てるだけ見る専門見る専門の力まじ貸してほしいのでこんなこと流行ってますとかがあったら教えてください本当に多分来てもらって実感してもらってるかもしれないんだけど本当プレイリストってまだ20名とかの会社記号でこれからどんどん大きくなっていくっていう拡大フェーズというか拡大していくタイミングJAさんとかは本当に大きい団体でもう出来上がってる組織だと思うんですけど結構一人一人が作り上げているみたいな段階の会社なので中村さんが言ってくれたんだよねっていうことで結構変わったりとか変化したりとかどんどん良くなったりってこととかが起こるので例えばこんな福利コースあったらいいよねとかこんな勉強会してこんなスキル欲しいなとかプレイリストの届くさを他の人に伝える時にどんな伝え方がいいかとかそういった感じであと働きにくい部分があったら絶対楽しく過ごせる方がいいと思うのでここ効率化したらいいんじゃないですかとかそういったとこを含めてたくさんの意見いただければみんなで解決していこうという会社なので是非プレイリストのことにもたくさん関わっていただけたら嬉しいなって思います中村さんみたいな方がこれからまた入ってきた時に私もこれ悩んだよとかこれうまくいったよとかそういった事例をたくさんお伝えしてほしいなと思うので還元し合えるようにできたらめっちゃ嬉しいなと思っておりますそういった感じでなんとなくプレイリストで働くイメージを持っていただけたら嬉しいなと思うんですけど質問とか聞きたいこととかあります?大丈夫ですありがとうございます大丈夫そうですよ中村さんがクリアになったのは新生とか周りは別部でまとめてやっちゃって説明しても絶対分からない部分がたくさん実際に申請したいという風に出てくると思うので中元に刑費の申請とかは中村さんという4月に入ってきた子がいるんですけど一緒に始めはやりましょうと説明は一回させてもらっているんですけど一緒にやっちゃいましょうという話をしていて画面共有しながら一緒にやるという方法をとらせてもらっているので説明は後日させてもらうんですけど一緒に実践しながらやっていこうという感じなので時々ゆっくり覚えていっていただけたらと思います結構本当にやってみるとこれって何?みたいなことが起こってくると思うので言ってほしいなという感じです話は変わりましたので飲み物を飲んで大丈夫だからね今はプレイリストのことで話させてもらったんですけど次は中村さんのことみたいなお話になってくるんですけどエンジニアって言っても経理の場合だと結構こういう道筋があって最終的に会社の総域計算書が見れるようになったらとかなんとなくゴールが分かりやすいものだったかなって思っているんですけどエンジニアという領域だとドゥンっていうすごい広い領域になってくると思うのでその中で中村さん自身がどういう風になれたらお仕事楽しいと思えるかなとかエンジニアになってよかったなって思えるかなみたいなところとかを一緒に考えていきたいなって思っていてこれからプロジェクト入るにあたっても全然自分が思っていることと違うっていうこととかはなるべく私たちも目線合わせしていきたいなって思っているのでそれでいうロードマップというかキャリアのプランみたいなところを一緒に考えていけたらなって思っていてその説明をしますすいませんそんなに長くないんですけどプロジェクトをやることっていうのがプレイリストに寄せされた中村さん自身が目指すIT技術者どういうところになりたいかなっていうところを話したいので独り立ちできるようにするとか円滑に仕事をするための目的で作っていきますプランとして大体できていて一応今のところだと基本的なパソコンスキルみたいなところこの後スキル何が今できて何を学ぼうかなみたいなところを一緒にチェックしていくんだけど大体Excelワードとか基本的なオフィスソフトの使い方っていうところから始めた人たちももちろんいれば大体そこができているなっていうことであればもう1ランクちょっと上に上がっていくみたいなところでスタート位置が人によって変わってくるので大体VBAとかこの辺りまでが未経験レベル1からスタートしようみたいなところになってくるのでぜひレベル1から始まるんだなっていうところだけなんとなく思っていってくださいレベル1で何するかっていうと本当は情報セキュリティというかパソコンやっぱり情報たくさん入っているのでそういったところでリテラシーというかどういったところでセキュリティ守らなきゃいけないんだなっていうところとかビジネス学びやすいさんとかともこれからやると思うんですけど入社する前に顔合わせとかね企業さんと顔合わせとかした時に中村さんとめちゃくちゃ安心はしてるんですけどこういうマナーをしといた方がいいよとかそういうところから始まってあとは本当にITに関する基本的な知識つけたりとかプレイリストの方向性をちゃんと理解していこうというところとかそういった部分からまず最初始まっていきますそんな難しいことは本当にないのでこれも後ほど資料をお渡しできると思うのでやった先に何があるかというとレベル2それこそ2年目3年目くらいになった時にはちょっと一人で開発みたいなところに挑戦するための技術を身につけられるような研修を用意してたりとか最終的には他の人に教えられるような存在になれるような勉強していこうかみたいなところまで目指していただけるので中村さん自身一人で開発して他の人に技術指導しますというところはめっちゃ遠そうに感じるかなと思うのでまずはできるところというか今ちょっと一緒に考えていけたらなというふうに思ってますこのロードマップの作成は後日やるので流れだけお伝えするとしっかり自分が今できること何かなというところの確認とスキルマップと呼ばれる将来1年後とか5年後とかどうなりたいかなというところを一緒に考えて私とか安井さんとかリードの先輩のインジュニアと一緒に振り返って次の目標のために行動を移していくだからここらまで一緒にやっていきたいなと思っているので今すぐやるわけじゃなくてできれば5月中旬とかぐらいにまたちょっとお話の機会いただければそこでちょっと入社してからどうやって仕事を決めていくかというところと一緒に将来に向けてどういう勉強をしていくかみたいなところの計画も一緒に立てれたらなと思ってますただ勉強しすぎるとか仕事忙しいしみたいなところでちょっと悩みすぎてももったいないなと思うので自分の今の適正な量とかを一緒に把握しながらやりたいなというふうに思っていますそんなところでじゃあ言われてもみたいなところがいっぱいフログ付いてるんでちょっと後で資料を見ていただきながら一緒にどういう進め方がいいかなという話し合いをまたやっていきましょうという説明なのでなんとなくこういうことがあるんだなと思っていただけたら今日のところはもうバッチリという感じでなんとなくイメージつきましたよかったですそういうところを作るところから一緒に伴奏していくのでよろしくお願いしますよろしくお願いしますということでというはずなんですけどさっきのロードマップのところでたぶんがっつり反映するかもしれないですけど半ばさてIT業界に入りたいと思ったきっかけって何だったんですか?これ建前だしのやつ確かにリアルなやつ本当のやつ将来性があって専門的なスキルを身につけたいっていうのが大きくてそこでIT業界に入りましたそうなんですね全然大丈夫ですよ了解しました今から私から話させていただくことが影響のことになります6月にか影響は先行してやってます6月スタートの案件に中村さんがつくようにという動きをしているところなんですねどういう動きをしているかというと中村さんが案件を持っている会社さんで中村さんにこういう中村さんっていうエンジンがいますどうですかっていう提案をしに行くんですねいろいろ募集要項があるんですけど中村さんちょっとお会いしてみたいなってことになった時に面談が組まれるんですね面談が組まれて中村さんすごいいい方だね先方からオファーが来てぜひ僕も参画させていただきたいですでプロジェクトが決まっていくっていう流れになっています私がやっていることでは中村さんの初めの提案をやっています中村さんが頑張るところっていうところがあってそこは面談私が参加できるものはあるんですけど参加できないことがほとんどですし中村さんが自分でこういうことをやってきましたみたいなことを話さなきゃいけない場面っていうのがあるんですねなので面談はちょっと頑張らなきゃいけないっていうところそこからそれ以降は私と先方の会社とのやり取りそんな感じで話が進んでいくと思ってくださいここら辺はこんなにすごい義務基というかめちゃくちゃ理解しなきゃいけないところでもないんですけど私の方から中村さんこんな人がうちにいますというところでスキルシートっていうものを先方の会社にお渡しするんですねそのスキルシートの確認をちょっとさせていただきたいなと思っています一応中村さんの職務協力書をもとに作成をさせていただいているので一応個人情報っていうところもあって向こうにお渡ししているのはこのイニシャルですお渡ししているのでここはちょっと気にしないでください確認したいところが今の現職の内容なんですがまず2022年4月1日から2022年4月1日から2023年5月30日という期間は間違ってない内容なんですけど整理のことをされているんですねその整理処理というところでデータの入力備品の管理発注で処理作成処理整理ファイリングだったり税金の支払いで通帳に金を貸しておりアソリンの補充アソリンの補充ってどういう意味ですか自動車の営業の方とか自分が使っている車のガソリンの補充を指定されたところでのガソリンスタンドができて補充しに行くそこまでするのこれですかめっちゃ優しいね営業さんにそれも業務なんですね業務でした了解しました郵便物の仕分け発送会議室の予約日程調整ファシリティーショーみたいなことをやってました来客対応やったり電話対応やったり雑誌コピーやったりお装備したりとか株足今のところどうですかないですポイントこれ竹井さんが書いてくれたポイントですね業務における手紙の著作成や手作業に行った業務をエクセルで効率化することで性格性と作業効率向上に貢献しました株足があんまりないというところなんですけど逆にこっちがプッシュポイントみたいなものを提案していくときに結構情報がいたりするときにプッシュポイントみたいなところを私が先方の営業さんに推していくポイントみたいなところがあるんですけど前職のここの業務の中で中村さんが一番給力されてたりとか封されてたりとかここ気をつけてましたみたいな私こういうこと得意ですみたいなものがあればちょっと教えていただきたいなっていうところなんですけどそうですね気をつけてたところはデータ入力をしたいので間違いないことを確認しながら送っているところですごく気をつけてました性格な人とっていうところでデータ入力をやったりとか一番大事ですのでそこにするととんでもないことになりますね間違えちゃうというかそうですよね了解しました結構そういった作業みたいなものは苦じゃなかったですか細かい作業は苦じゃなかったですちなみにここのデータ入力をやったりとかの一般でExcelにされてた感じですかねExcelもありました専用のソフトもあってそっちに検証できたりとか専用のソフトってちなみについても大丈夫ですかFXファイルその業界のものですかね私が無知なものでFXファイルFXファイルを使っていてExcelも使ってたりとか使われてたものはありますかないです了解しましたExcel使われてた時に関数って使ってましたか関数は使ってましたそうなんですね例えばどういった関数を使ったのか覚えてる範囲でちょっとだけ教えていただいても簡単な関数なんですけど足し算とかそういうのとかVlookup使ったことは使ってなかったです了解しましたホットテーブル使ってないですOKです業計算っていうところで足したりとか引いたり割ったりみたいなところで計算そして関数を使ってたっていうところですねちなみに集計することとかあったりしましたか集計経理のデータ入力するときに計算間違ってないかなっていう確認を関数使ってやるみたいなこととか関数組まれてると表に入れるとかそういうことってありましたかやってましたそのときの関数の内容って覚えてます?中身それはでも足し算とかなるほどOKめっちゃいいですね了解しましたありがとうございます結構この未経験からのIT評価っていうところでいろんな画期にわたる案件やプロジェクトっていうところがあるんですけど一歩ずつっていうところで一番初めに今の全職の地域を生かせるところから始めていくっていうところがまず第一歩目になってくるところなんですねなのでこういうエクセルが使える方だったりとかよく書かれてるのがコミュニケーション良好な方今中村さんとお話させていただいていてもう全然問題ないかなと思うんですけど全職での地域を生かせてプラスアルファちょっと例えばもう少し他のことにチャレンジができる案件っていうところで見させてもらっているんですねなのでこういった関数使ってましたとか足し算や計算も使ってましたっていう情報をすごい向こうも気になっているところではあるのでそういう情報が今聞けてよかったなっていうところとあと私の中でこういった案件が割と土壇に乗りやすい案件ではあるんですねハイスキルではない案件になってしまうんですねなのですごい応募数が多いっていうところもあってどうしてもスキル勝負になってしまうはじめは私の提案が遅ければ面談につながらなかったりとかそういうところがちょっとそこで勝負させてもらってみたいところもあってなので私の方でスピード感を持ってどんどん中村さんの提案をさせていただきたいちょっとそこだけご了承いただきたいなと思っていますなので中村さんにこの案件どうですかいいですねっていうところをちょっとそこを一回スチップさせてもらって提案からもさせてもらえたらなと思っていてもし中村さんという方に面談させてください面談依頼が来たタイミングで中村さんの方にこういう案件から面談依頼が来てますっていうところに応募させてもらいたいなと思っていますなのでちょっとそこまではスピード感を持って私の方で提案を進めさせていただけたらなとちょっとそこだけご了承よろしくお願いしますでそうですねなんで面談依頼が来たらまたディスコードで面談依頼が来ているのでいつごよさそうですかっていう調整をさせてもらうんですけど今は退職はされてたんでしたっけ5月末で退職で今は休職しています5月末で退職で今は休職しています基本的に面談依頼の勝手においてお入れることはないんですけど面談が調整しやすい時間帯とか平日ってどこに教えてもらっても大丈夫ですかとりやすそうな時間帯みたいないつでも大丈夫です本当ですかはいゆっくり教えてもらってもらってもいいですか了解しましたではちょっと先方との調整で中村さんの方にいついつもちの話をさせてもらって基本的には私の方で把握としては調整はしやすいという風に思っておきます了解しましたで面談依頼で面談練習もちょっとさせていただきたいんですけど面談依頼が来たタイミングでやります概要だけちょっと今お付き合いしても大丈夫ですかがっつり面談練習はちょっと後日一緒にやりましょうはいで2パターンあって対面とオンラインとありますでオンラインが多いのででも対面であってもオンラインだってやることっていうのは変わらない内容としては3つあって先方から案件のこういうことやるよみたいな業務の説明とあと中村さんの方にスキルシートの説明をお願いしますっていうふうに振られます次質量と中村さんからの質量と先方からの質量とっていうこの3つやることとしては中村さんのターンとしては中村さんのスキルの説明っていうところは完全に中村さんのターンなので練習することはスキルの説明をしっかりちゃんと入れるっていうところだけちょっと一緒に今後お礼表させてくださいというところですかねそんな感じでその時にがっつりやりますかそうしましょう流れなんとなくわかりましたわかりました基本的にはエンジニアさんがいてこういう営業さんがいろんなプロジェクトをどれ合うかなどれがいいかなと思いながら投げてそこでマッチしたらしるべん断してそうですわかりましたもちろん2人とも良いなって思い両思いになればそのままマッチング成立なんでプロジェクト先にいつからいきましょうっていう流れになるのでプロジェクトが6月に入社のタイミングから決まってほしいなって思っているのでそんな感じですではスキーを私の方で先行して動かせてもらってはいるんですけど例えば面談させてもらって中村さんの中でこの案件ちょっと難しそうですっていうことがあれば断るタイミングって面談終わったらあげても全然断るタイミングがあるのでちょっとそこで私とヒアリングをさせてもらいながらっていう感じで三角引いたっては進めさせていただこうかなと思っていますはい逆に不安点質問点とかありますかいろいろと大丈夫です大丈夫ですかありがとうございますゆかは素敵な本当にねでもお仕事する時ってスキルとか技術とか前提大事なんですけどやっぱりこの人とお仕事したいなっていうのは大前提大事なので本当にこれが意味で言うと本当にめちゃくちゃ安心感してるみたいな気持ちがあるんですけどいや本当に最後は人柄みたいなところあるんでそれでもスキルシートせっかく作るのであればちょっとでもこれやってきましたって言えるような準備をしたいなってところで多分面接練習やったりとかちょっと勉強しておこうじゃないんですけど例えばこの関数見たことありますみたいな状態と全く知りませんだと印象大分違うと思うのでなんか給食中の間多分勉強されたりとかしたいなって思います本当にそしたらこのサイト見とくといいよみたいなのがあるのでもしかしたらお渡ししたりとかもできるかなと思っているのでそしたら本当に入社前になってしまって恐縮なんですけど連絡していいって思ってもいいですか?映像のこととかこういうこの間オフィスバージョン何使ってるかって言うのをちょっと投げ立ててもらったんですけどあれもちょっと案件があってっていうところでオフィスの365を使ってないとダメっていうところだったんでバージョンないかなっていう風にちょっと伺わせてもらったんですけどああいう風にちょっとポンポンポンポンやり取りをさせていただけるとありがたいなとずっと連絡させてくださいよろしくお願いします新しい業界だとまた文化違いすぎみたいなところ絶対出てくるのでちょっと一緒に頑張りましょうよろしくお願いします私からは以上になります小鞘さんもどうですか?大丈夫ですちょっと時間あるのであればロードマップっていうか一緒にちょっと早めに考えてじゃあ今のうちこれ勉強しとこうかみたいなの別に業務じゃないんです教育じゃないのでちょっとそれ早めに考えてもいいかもって今思ってるので私もまた連絡しますねありがとうございます最後ちょっと武井さんが最後にって言われてたんでちょっと連絡しますね\n"
          ]
        }
      ]
    },
    {
      "cell_type": "markdown",
      "source": [
        "ここで、文字起こしは完了しました。この文字起こししたテキストをファイルに書き込みます。"
      ],
      "metadata": {
        "id": "tyvu1WlZFEXM"
      }
    },
    {
      "cell_type": "code",
      "source": [
        "import datetime\n",
        "\n",
        "# Save the transcription to a file\n",
        "current_time_str = datetime.datetime.now().strftime(\"%Y%m%d%H%M%S\")\n",
        "output_file = f\"transcription_{current_time_str}.txt\"\n",
        "\n",
        "with open(output_file, \"wt\", encoding=\"utf-8\") as f:\n",
        "    f.writelines([result[\"text\"]])"
      ],
      "metadata": {
        "id": "IGlrgUMynSof"
      },
      "execution_count": null,
      "outputs": []
    },
    {
      "cell_type": "code",
      "source": [
        "text = text_splitter.split_text(result[\"text\"])"
      ],
      "metadata": {
        "id": "QnNG8_veXbgB"
      },
      "execution_count": null,
      "outputs": []
    },
    {
      "cell_type": "code",
      "source": [
        "output_file"
      ],
      "metadata": {
        "colab": {
          "base_uri": "https://localhost:8080/",
          "height": 36
        },
        "id": "MXqE1es3o2Ht",
        "outputId": "70642ccc-ec50-489a-ede2-8b4d8b2d2d99"
      },
      "execution_count": null,
      "outputs": [
        {
          "output_type": "execute_result",
          "data": {
            "text/plain": [
              "'transcription_20230420133734.txt'"
            ],
            "application/vnd.google.colaboratory.intrinsic+json": {
              "type": "string"
            }
          },
          "metadata": {},
          "execution_count": 31
        }
      ]
    },
    {
      "cell_type": "markdown",
      "source": [
        "ここでは長文を事前準備時にChunk_sizeとして指定した文字数で分割を行います。"
      ],
      "metadata": {
        "id": "LqqtFmQ1FP4C"
      }
    },
    {
      "cell_type": "code",
      "source": [
        "docs = [Document(page_content=t) for t in text]"
      ],
      "metadata": {
        "id": "zprVLic-N47V"
      },
      "execution_count": null,
      "outputs": []
    },
    {
      "cell_type": "markdown",
      "source": [
        "ここからはプロンプトの作成を行います。\n",
        "\n",
        "prompt_templateは一番最初のchunk_size分のテキストをどのように扱うかを指示できます。\n",
        "\n",
        "refine_templateは2回目以降に要約＋残りの文で再度要約を行う際の指示になります"
      ],
      "metadata": {
        "id": "nluNRdmgFcnM"
      }
    },
    {
      "cell_type": "code",
      "source": [
        "prompt_template = \"\"\"次の文章の簡潔な要約を書いてください:\n",
        "\n",
        "{text}\n",
        "\n",
        "この会議の要約をMarkdownフォーマットで書いてください。以下のフォーマットでサマリーを書いてください：\n",
        "- 本日のテーマは新入社員向けの育成ロードマップを作成すること\n",
        "- 会議の目的\n",
        "- 会議の内容\n",
        "- 会議結果\n",
        "- 会議の次のアクション\"\"\"\n",
        "PROMPT = PromptTemplate(template=prompt_template, input_variables=[\"text\"])\n",
        "\n",
        "\n",
        "refine_template = (\n",
        "    \n",
        "    \"あなたの仕事は最終的な要約を作ることです\\n\"\n",
        "    \"途中までの要約があります: {existing_answer}\\n\"\n",
        "    \"必要に応じて下記の文章を使い、さらに良い要約を作成してください\\n\"\n",
        "    \"------------\\n\"\n",
        "    \"{text}\\n\"\n",
        "    \"------------\\n\"\n",
        "    \"与えられた文章を踏まえて、日本語で新入社員向けの育成ロードマップを作成してください\"\n",
        "    \"与えられた文章が有用でない場合、途中までの文章を返してください\"\n",
        ")\n",
        "refine_prompt = PromptTemplate(\n",
        "    input_variables=[\"existing_answer\", \"text\"],\n",
        "    template=refine_template,\n",
        ")"
      ],
      "metadata": {
        "id": "ja5Fp_S-OfsO"
      },
      "execution_count": null,
      "outputs": []
    },
    {
      "cell_type": "markdown",
      "source": [
        "最後です。\n",
        "\n",
        "今回はチェインタイプのうち、「Refine」を使用します。この「Refine」は要約の質がほかのタイプに比べて高いが、時間がかかるものとして知られています。"
      ],
      "metadata": {
        "id": "Kt8RdCnpF_iS"
      }
    },
    {
      "cell_type": "code",
      "source": [
        "chain = load_summarize_chain(llm, chain_type=\"refine\", question_prompt=PROMPT, refine_prompt=refine_prompt, verbose=True)\n",
        "chain.run(docs)"
      ],
      "metadata": {
        "id": "sCVkrKKtOpPz",
        "colab": {
          "base_uri": "https://localhost:8080/",
          "height": 1000
        },
        "outputId": "fcc8dbfc-5337-41d8-af3f-bd8280981c98"
      },
      "execution_count": null,
      "outputs": [
        {
          "output_type": "stream",
          "name": "stdout",
          "text": [
            "\n",
            "\n",
            "\u001b[1m> Entering new RefineDocumentsChain chain...\u001b[0m\n",
            "\n",
            "\n",
            "\u001b[1m> Entering new LLMChain chain...\u001b[0m\n",
            "Prompt after formatting:\n",
            "\u001b[32;1m\u001b[1;3m次の文章の簡潔な要約を書いてください:\n",
            "\n",
            "あれだと思うんで大丈夫そうかなこの後なんですけど、書類とか色々書いてもらったと思うんでこの後は本当に難しいこととか一切ないので安心してください今日お休み?ありがとうございました車内会帰れました?ちゃんと帰りましたよかったありがとうございましたごめんなさい最後の方私めっちゃ酔っ払ってもう本当にちゃうねみたいな感じで楽しかったですすいません楽しかったですすいません本当にちょっと今日この後やりたいなって思ってるのがまず会社?入社してどんなことをまず事務的なところと会社の雰囲気みたいなところ多分さっき竹井さんから聞いたと思うんだけどまだ分からない部分とかあるかなって思ってるのでちょっとオンボイディングじゃないんですけど入社前のご案内というところをしてもう一つロードマップでこれからどんなキャリアを選んだらいいか分からないみたいなところちょっとぼんやりしてるかなと思うのでそういったところちょっとキャリア面のお話させていただいて安井さんの方から今後の具体的な動きみたいなところ伝えていくみたいな感じにしたいなと思ってますはいお願いしますただ飲み物飲んでくださいっていう感じですちなみに竹井さんとは今後の流れの話とかしました?まだこれからあるんです手続きが終わったっていう手続きしましたよかったよかったOKですちょっと本当にこの間の備え会で多分雰囲気見てもらったと思うのとどっちかっていうと私ほぼほぼ同期なので私も皆さんに助けられながら仕事してるのでどっちかっていうと私に頑張りましょうの目線なんですけどじゃあ新社のオンボイディングみたいな前の会社もやりました?やってないですあそうなんだ改めてなんですけどようこそっていう感じでプレイリストを本当に気に入りを創出していくっていうのをビジョンの元みんながお仕事していて新しい選択肢ですねバスタブルもそうだし企業さんに対してもITの力だったりとか自分のスキルの幅を増やすことで自分の選択肢も企業さんの選択肢も増やしていくそんな会社でやりたいなみたいなことを思っていますこういう資料みたいなのってもしかしたらフェアボクロとか見ました?はいいただきましたよかったーそうなんだよみんなこの思いを持って働いてますよみたいなところを改めてお伝えしたいなと思っていてこの資料を入社されてからの方がいいのかなと思ってるんですけど入社したらまたお渡しというかみんなが見れるところに置いてあるのでいつでも見てほしいなと思うんですけどちょっと会社の概要だったりとか会社の社内ツールだったりとか実際に働いてからの勤怠とか経費生産とかリアルなところのやり方のマニュアルみたいなのも入っているので後でちょっと目を通していただきたいなと思っていますディスコードの話とか社内ツールの話とかって結構武井さんからいろいろ聞きました?社内ツールの話聞いてないと思いますOKでしたちょっとそこから本当に具体的にプレイリストで働くにあたってみたいなお話になってくるんですけど最初はプロジェクトに多分配属されるのでプレイリストのオフィスで働くわけじゃなくって配属先でお仕事することになると思うので不安とかあります?大丈夫?少し不安です不安ですよね野生さんとかがすごいサポートしてくれて私も社内にいるので何かあったら連絡くださいとはあるんですけどやっぱり連絡するときって結構勇気がいるというかだと思うので基本的にこの社内ツールのディスコード今入ってもらっているディスコードのもう一つのターミナルプレイリストで本当にありがとうございます出てきそうこんな感じで今入ってもらっているのがインプレイリストなんだ\n",
            "\n",
            "この会議の要約をMarkdownフォーマットで書いてください。以下のフォーマットでサマリーを書いてください：\n",
            "- 本日のテーマは新入社員向けの育成ロードマップを作成すること\n",
            "- 会議の目的\n",
            "- 会議の内容\n",
            "- 会議結果\n",
            "- 会議の次のアクション\u001b[0m\n",
            "\n",
            "\u001b[1m> Finished chain.\u001b[0m\n",
            "\n",
            "\n",
            "\u001b[1m> Entering new LLMChain chain...\u001b[0m\n",
            "Prompt after formatting:\n",
            "\u001b[32;1m\u001b[1;3mあなたの仕事は最終的な要約を作ることです\n",
            "途中までの要約があります: # 新入社員向け育成ロードマップ会議\n",
            "\n",
            "## 目的\n",
            "新入社員向けの育成ロードマップを作成すること\n",
            "\n",
            "## 内容\n",
            "- 現状の課題や不安についての話し合い\n",
            "- オンボーディングの改善案についての提案\n",
            "- ロードマップの作成についての意見交換\n",
            "\n",
            "## 結果\n",
            "- ロードマップの作成に向けて、社内ツールやプロジェクト配属先のマニュアルを作成することが決定\n",
            "- ディスコードの活用方法についての説明があり、今後はディスコードを活用して連絡を取り合うことが決定\n",
            "- 新入社員には入社前にロードマップの資料を渡すことが決定\n",
            "\n",
            "## 次のアクション\n",
            "- 社内ツールやプロジェクト配属先のマニュアルを作成する\n",
            "- ロードマップの資料を作成し、新入社員に渡す\n",
            "- ディスコードを活用して連絡を取り合うようにする\n",
            "必要に応じて下記の文章を使い、さらに良い要約を作成してください\n",
            "------------\n",
            "とかあります?大丈夫?少し不安です不安ですよね野生さんとかがすごいサポートしてくれて私も社内にいるので何かあったら連絡くださいとはあるんですけどやっぱり連絡するときって結構勇気がいるというかだと思うので基本的にこの社内ツールのディスコード今入ってもらっているディスコードのもう一つのターミナルプレイリストで本当にありがとうございます出てきそうこんな感じで今入ってもらっているのがインプレイリストなんだけど本ちゃんのプレイリスト株式会社というのがあってここのチャンネルの中でみんなで会話したりとかご仕事するときに自分のお部屋に入ってそこで作業するとかにすると例えばお部屋に入っていただくと例えば大沢さん今マイクはオフにしているけど多分耳は聞こえる状態になっていると思うのでこのお部屋にドンって入ってもらえれば大沢さん聞いてもらってもいいですか?みたいなことができるような状態これ出社すると基本的にはオフィスにいるのでそういったことができないと思うんですけどリモート環境になった時に一人で黙々と作業するのは結構きつかったりすると思うのでそういったところでコミュニケーションがされるような感じになっていますお部屋たくさんあるのでそれは入社されたタイミングとかでお話ししたいなと思っているんですけどこういったところを使ってあとはアナウンス記者会この日にやりますよとかみんなこれちょっと確認してねみたいなこと社外周りの連絡事項だったりとかそういったことも全てこのDiscordの中でやり取りしていて携帯にも今私入れているんですけど携帯からも見れるので会社の人とやり取りしたいなということとかもし聞いてくださいとかそういったことがあったら基本的にはDiscordを見ていただくと雑談だったり相談だったり進捗確認だったりそういったことができますちなみに入社されてからだんだんお仕事慣れてきたら技術をちょっと向上させるための研修だったりとかも私たちやっているのでそういった時にはみんな研修のお部屋を作ってうち昼間さんとか動いてたと思うんですけどちょっと自分でコード書いたりとかこの宿題やってみたのでレビューお願いしますみたいなのを書いてくれると大沢さんとかうちでリードって呼ばれている先輩エンジニアがちゃんと拾ってここいいねとかここちょっと変えるといいよとかそういうのを教えてくれるのでなのでお仕事はもちろん外の先でやってもらうんだけどプレイリストとしてめちゃくちゃサポートするのでそういったところでコミュニケーションが取れたらなという風に思っていますそんな感じでDiscordを使っていてお部屋の紹介とかもあるのでこの資料後で見ていただきたいなという風に思いますあともう一つNotionって使ったことあります?初めてですよねありがとうございますプレイリストとかおもしろいですからプレイリストっていうお仕事をする上でDiscordはコミュニケーション誰かと何か話す時とかに使ったりとかこれチェックしてねってアナウンス流れるんですけど溜めておきたいなとかみんなに必ず見てほしいなとかどんな人で言っていいみたいなこととか社内のあります?ホームページみたいなの今の会社のホームページホームページというか社内の連絡事項が書いてあるページみたいなのがあったりとかポータルサイトみたいなポータルサイトみたいなのあります?あったですそうなんだJLの中とかもしかしたら結構あるのかなと思ったありがとうございますそんな感じでNotionっていってメモ帳機能みたいなのがうちで使っているものでDiscordはポータルサイトの感じで使って\n",
            "------------\n",
            "与えられた文章を踏まえて、日本語で新入社員向けの育成ロードマップを作成してください与えられた文章が有用でない場合、途中までの文章を返してください\u001b[0m\n",
            "\n",
            "\u001b[1m> Finished chain.\u001b[0m\n",
            "\n",
            "\n",
            "\u001b[1m> Entering new LLMChain chain...\u001b[0m\n",
            "Prompt after formatting:\n",
            "\u001b[32;1m\u001b[1;3mあなたの仕事は最終的な要約を作ることです\n",
            "途中までの要約があります: 新入社員向け育成ロードマップ会議の結果、以下のアクションが決定しました。\n",
            "・社内ツールやプロジェクト配属先のマニュアルを作成する\n",
            "・ロードマップの資料を作成し、新入社員に渡す\n",
            "・ディスコードを活用して連絡を取り合うようにする\n",
            "また、Discordを使ってコミュニケーションを取ることができるため、入社後はDiscordに参加することが必要です。Discordは、社内の連絡事項やアナウンス、進捗確認などに活用されます。また、Notionというメモ帳機能も使われているため、こちらも使い方を覚えておく必要があります。新入社員向けの育成ロードマップが作成され、スムーズなオンボーディングが実現されることを期待しています。\n",
            "必要に応じて下記の文章を使い、さらに良い要約を作成してください\n",
            "------------\n",
            "社内のあります?ホームページみたいなの今の会社のホームページホームページというか社内の連絡事項が書いてあるページみたいなのがあったりとかポータルサイトみたいなポータルサイトみたいなのあります?あったですそうなんだJLの中とかもしかしたら結構あるのかなと思ったありがとうございますそんな感じでNotionっていってメモ帳機能みたいなのがうちで使っているものでDiscordはポータルサイトの感じで使っているんですけど自分でカスタマイズとかもできちゃうので追加であげるとかそういったことも一緒にできます社内のメンバーどんな人がいるのかなとかあと社内報というところで自己紹介したり今思っていることこれですみたいなこととかここで貯めておくストックできるようなものになっているのでプレイリストで働く上で気になるなということは大体ここに来ると解決できるかなと思いますそんなものを使って自分で見ながらでもプレイリストとしてつながっているみたいなことをやったりしていますあとGoogleとかそういうのってJの時って使わないです使ってなかったりそうですよね全部カレンダーというかスケジュールの共有だったりとかはGoogleのものを使っているのでそれも結構慣れたところがあるかなと思うのでちょっとお見せするとなんか大きくなっちゃっているそんな感じでその日の予定とかみんなと何をやっているのかな社内メンバー何をやっているのかなというのが見れるのでそんなところで共有をしておりますGoogleドライブを使ってファイルの管理をしたりとかそういったことをやっていますマイドライブGoogleのドライブちなみに自分のGoogleのドライブ使ったことあります?はい初めて見たようなありがとうございますGoogleの自分のアドレスGmailのアドレスを作るといろんな機能がGoogleさん提供してくれるんですよ検索機能だけじゃなくてGoogleマップとかもなんですけどメールしたりとかフォルダ作れたりカレンダーさっきもやったりとかGoogleの自分のメールアドレスIDがあるとGoogleの中でいろんな機能を提供してくれるのでその中でGoogleのドライブというファイル機能を使って私たちプレイリストのメンバーしか見れないフォルダというのを共有してこの中でこれを見ておいてくださいねとか資料を確認してくださいねみたいなものを使っているので今日の今日でわからないことがあって全然大丈夫なんですけどその中に就業規則とか載っていたりするのでそうなのでさっきのハイプレイリストというところとGoogleのドライブフォルダの中でプレイリストのやり取りというか必要書類とか確認したいことがあった時というのは解決できるかなと思いますなのでツールの使い方の時点で結構最初苦労すると思うのでその時は何でも聞いてもらえれば画面つなげてお話したりとかそれこそ出張しても失敗するとか全然やるのでそこをつまづくと仕事をすると何をやったらいいんだろうとなると思うので納書とかは先に私が難しいので見たりになってから見るとやっぱりそうですねプロジェクト始まってから見ることになるかもちょっとわからないなということがあったらすぐ投げ込んでくださいそんな感じですあとそうですねお仕事するのはICSの海賊先というかプロジェクト先でお仕事するんだけども実際に9時から6時までお仕事しましたみたいなそういう近帯お仕事する上でのタイムシートじゃないですけどそういうのはうちに報告をしたりとかあと交通費とかなんか飲み物買いました飲み物って何だろう飲み物じゃないねちょっと社員同士で\n",
            "------------\n",
            "与えられた文章を踏まえて、日本語で新入社員向けの育成ロードマップを作成してください与えられた文章が有用でない場合、途中までの文章を返してください\u001b[0m\n",
            "\n",
            "\u001b[1m> Finished chain.\u001b[0m\n",
            "\n",
            "\n",
            "\u001b[1m> Entering new LLMChain chain...\u001b[0m\n",
            "Prompt after formatting:\n",
            "\u001b[32;1m\u001b[1;3mあなたの仕事は最終的な要約を作ることです\n",
            "途中までの要約があります: 新入社員向け育成ロードマップのアクションとして、以下のことが決定しました。\n",
            "1. 社内ツールやプロジェクト配属先のマニュアルを作成する。\n",
            "2. ロードマップの資料を作成し、新入社員に渡す。\n",
            "3. Discordを活用して連絡を取り合うようにする。\n",
            "\n",
            "Discordは、社内の連絡事項やアナウンス、進捗確認などに活用されます。また、Notionというメモ帳機能も使われているため、こちらも使い方を覚えておく必要があります。\n",
            "\n",
            "新入社員向けの育成ロードマップが作成され、スムーズなオンボーディングが実現されることを期待しています。必要に応じて、社内のツールやプロジェクトについてのマニュアルや、DiscordやNotionの使い方について、先輩社員に質問してください。また、自分で調べたり、試してみたりすることも大切です。\n",
            "必要に応じて下記の文章を使い、さらに良い要約を作成してください\n",
            "------------\n",
            "ることになるかもちょっとわからないなということがあったらすぐ投げ込んでくださいそんな感じですあとそうですねお仕事するのはICSの海賊先というかプロジェクト先でお仕事するんだけども実際に9時から6時までお仕事しましたみたいなそういう近帯お仕事する上でのタイムシートじゃないですけどそういうのはうちに報告をしたりとかあと交通費とかなんか飲み物買いました飲み物って何だろう飲み物じゃないねちょっと社員同士でランチ代って福井構成で出るのでなんかその時にちょっとミランチミーティングしましたとかそういう経費だったりとかそういったものが私たちの方からプレイリストの方からお支払いすることになるので私たちに申請が必要になるんです今ちなみにどうやってタイムシートとかですかタイムシートは貼ってあります貼ってます?切るタイプなんですか?切るタイプです切りみたいなすごいもう私たちはアプリで簡単にその場でできるのでこのアプリとか聞いたことあります?フリーの人事ソフトっていうさっき拓生さんから聞いてそこでお支払いしてみましたよかったもう一つちょっと似てるんですけど会計用のソフトもあるのでこのアプリ入れてもらってその場で毎日9時から6時から働きました卒業しましたとかそういったところを入れていただくのとあともう一つExcelとかも使ってました?はい少しだけありがとうございますExcelとちょっと似てるようなソフトウェットシートってGoogleが提供してるExcelみたいなシートがあってその2つで報告してもらってるのでやり方はちょっとイニシャされてからでいいですよね今お伝えしているツールの説明をまとめてやる時間をまた設けようかなと思うので有償ショップ前くらいにお願いさせていただくことがあるかもしれませんもしプロジェクトが始まるといろいろなプロジェクトの方に力を注いでもらって時間を使っていただくことになると思うので入社前の5月下旬くらいにお時間いただければと思います今日こんなことやるよ説明でちょっと定めようかなと思うんですけど経費も流れとしてはこんな経費使いたいです例えば中村さんと私ランチ行きたいですっていうのをみんなに報告して上の人たちからいいよそれで経費落としちゃっていいよっていう許可をもらったらちゃんと申請をするっていう流れになるのでそこもツールをいくつか使うことになると思うのでちょっとそれで経費精査をするんだなっていうところあと有給休暇もう本当に入社して半年間経てば10日間つくのでちゃんと5日間は絶対使い切らなきゃいけない絶対使い切らなきゃいけないっていう国のルールもあるのでリフレッシュがあったら使ってほしいなと思うのでそれも皆さんに私この日休むのでっていう連絡をもらって休んで休んでっていう許可をもらって支援するっていうところで中村さん休みなんだなっていうのを確認するためにカレンダーで共有するみたいな流れをとっているので基本的に申請をすることに関しては事前に許可をもらっていいよって言われたら休むとか経費使うとか基本休むとかもねダメとかいうことはないんですけどプロジェクト先がめっちゃ忙しい休めないなみたいなこととか逆にめっちゃ休まなきゃいけないようであるけど言いづらいとかがあればちょっと休みにつながってやってもらえると相談のってくれるかなと思うので月末にちゃんと毎月お給与いただくためにちゃんと申請できてるかなってチェックをしなきゃいけないので基本的に毎日勤怠報告とか使うたんびに経費の報告をするけども月末にもう一回ちゃんとチェック用のシートがあるのでその使い方とかはまたしっかりお伝え\n",
            "------------\n",
            "与えられた文章を踏まえて、日本語で新入社員向けの育成ロードマップを作成してください与えられた文章が有用でない場合、途中までの文章を返してください\u001b[0m\n",
            "\n",
            "\u001b[1m> Finished chain.\u001b[0m\n",
            "\n",
            "\n",
            "\u001b[1m> Entering new LLMChain chain...\u001b[0m\n",
            "Prompt after formatting:\n",
            "\u001b[32;1m\u001b[1;3mあなたの仕事は最終的な要約を作ることです\n",
            "途中までの要約があります: 新入社員向け育成ロードマップのアクションとして、以下のことが決定しました。\n",
            "1. 社内ツールやプロジェクト配属先のマニュアルを作成する。\n",
            "2. ロードマップの資料を作成し、新入社員に渡す。\n",
            "3. Discordを活用して連絡を取り合うようにする。\n",
            "\n",
            "Discordは、社内の連絡事項やアナウンス、進捗確認などに活用されます。また、Notionというメモ帳機能も使われているため、こちらも使い方を覚えておく必要があります。\n",
            "\n",
            "新入社員向けの育成ロードマップが作成され、スムーズなオンボーディングが実現されることを期待しています。必要に応じて、社内のツールやプロジェクトについてのマニュアルや、DiscordやNotionの使い方について、先輩社員に質問してください。また、自分で調べたり、試してみたりすることも大切です。\n",
            "必要に応じて下記の文章を使い、さらに良い要約を作成してください\n",
            "------------\n",
            "休めないなみたいなこととか逆にめっちゃ休まなきゃいけないようであるけど言いづらいとかがあればちょっと休みにつながってやってもらえると相談のってくれるかなと思うので月末にちゃんと毎月お給与いただくためにちゃんと申請できてるかなってチェックをしなきゃいけないので基本的に毎日勤怠報告とか使うたんびに経費の報告をするけども月末にもう一回ちゃんとチェック用のシートがあるのでその使い方とかはまたしっかりお伝えしますそうやってみんな過ごしてるんだなって思ってもらってマニュアルがちょっとあるので入社してからちょっと見ていただけたら嬉しいなと思いますそこにマニュアルがそうなんですマニュアルちょっとくっつけちゃいましたありがとうございますあと、比較的プレイリストでお仕事するのであれば他の会社さんでお仕事してるメンバーとかもたくさんいると思うんですけどせっかくであればプレイリストならではのことにもいっぱい取り組んでほしいなと思ってて黙々会って言ってちょっとみんなで黙々作業するだけ勉強するだけの時間みたいなのも一応これ任意なので絶対じゃないんですけど最近日程とかまたバラバラになってきてるのでみんなでやること宣言して今日私これ勉強しますって言って分かんないことがあった時先生もそう教えてくださいとかができるようなこういったイベントチックなことをやったりとか研修がこれから始まったりとかもしてプロジェクトを実際にやって多分すごい仕事忙しいと思うのでまずはそっち集中してもらってちょっともうちょっと時間空いてきたなとかスキルアップしなきゃなみたいなタイミングの時とかに私たちからも声がけさせてもらったりするのでエンジニアの先輩と一緒にじゃあこのステップで進めていきましょうみたいな感じでちょっとスキルアップの研修を一緒にやっていく感じになりますこれもディスコードの中でちょっと連絡やり取りとかするのでなんでちょっと後ほどなんですけどディスコードの使い方とかはしっかりお伝えしたいなと思いますあと聞いてるとは思うんだけどもう一回ちょっと月に一回記者会この間参加してもらったやつで飲み会とかもちろん任意参加なんだけども基本的にみんなで勉強したりとか社内の共有事項確認したりとか最近どう?みたいな話したりとかそういったことのために毎月第2金曜日みんなで集まっているのでプロジェクト先お休みして出社してもらうときに出社してもらうようなイベントになるのでそこもちょっと今後調整しながらやっていけたらなと聞きたいこととかあります?大丈夫ですめっちゃ一向的に喋ってるんですけどごめんなさいあと自由参加のこういうイベントとかやっててこの間も花見やったりとかなんか年子?そうですそうです初詣初詣されたりとかやったりとかしてるのでもしちょっとエンジニア先輩ともうちょっと喋りたいなとかぜひ参加してください実は6月23日が創業日なので創業のときイベント企画してくれてるみたいなのでぜひ参加できたら嬉しいなみたいな風に思ってますあと色んなSNSやってるのでよかったらいいね押してもらえたりとか逆に運用こんなことやったらいいんじゃないですかとかだったらめっちゃやってるSNS見てるだけ見る専門見る専門の力まじ貸してほしいのでこんなこと流行ってますとかがあったら教えてください本当に多分来てもらって実感してもらってるかもしれないんだけど本当プレイリストってまだ20名とかの会社記号でこれからどんどん大きくなっていくっていう拡大フェーズというか拡大していくタイミングJAさんとかは本当に大きい団体でもう出来上がってる組織だと思うんですけど結構一\n",
            "------------\n",
            "与えられた文章を踏まえて、日本語で新入社員向けの育成ロードマップを作成してください与えられた文章が有用でない場合、途中までの文章を返してください\u001b[0m\n",
            "\n",
            "\u001b[1m> Finished chain.\u001b[0m\n",
            "\n",
            "\n",
            "\u001b[1m> Entering new LLMChain chain...\u001b[0m\n",
            "Prompt after formatting:\n",
            "\u001b[32;1m\u001b[1;3mあなたの仕事は最終的な要約を作ることです\n",
            "途中までの要約があります: 新入社員向け育成ロードマップのアクションとして、以下のことが決定しました。\n",
            "1. 社内ツールやプロジェクト配属先のマニュアルを作成する。\n",
            "2. ロードマップの資料を作成し、新入社員に渡す。\n",
            "3. Discordを活用して連絡を取り合うようにする。\n",
            "\n",
            "Discordは、社内の連絡事項やアナウンス、進捗確認などに活用されます。また、Notionというメモ帳機能も使われているため、こちらも使い方を覚えておく必要があります。\n",
            "\n",
            "新入社員向けの育成ロードマップが作成され、スムーズなオンボーディングが実現されることを期待しています。必要に応じて、社内のツールやプロジェクトについてのマニュアルや、DiscordやNotionの使い方について、先輩社員に質問してください。また、自分で調べたり、試してみたりすることも大切です。\n",
            "必要に応じて下記の文章を使い、さらに良い要約を作成してください\n",
            "------------\n",
            "とかだったらめっちゃやってるSNS見てるだけ見る専門見る専門の力まじ貸してほしいのでこんなこと流行ってますとかがあったら教えてください本当に多分来てもらって実感してもらってるかもしれないんだけど本当プレイリストってまだ20名とかの会社記号でこれからどんどん大きくなっていくっていう拡大フェーズというか拡大していくタイミングJAさんとかは本当に大きい団体でもう出来上がってる組織だと思うんですけど結構一人一人が作り上げているみたいな段階の会社なので中村さんが言ってくれたんだよねっていうことで結構変わったりとか変化したりとかどんどん良くなったりってこととかが起こるので例えばこんな福利コースあったらいいよねとかこんな勉強会してこんなスキル欲しいなとかプレイリストの届くさを他の人に伝える時にどんな伝え方がいいかとかそういった感じであと働きにくい部分があったら絶対楽しく過ごせる方がいいと思うのでここ効率化したらいいんじゃないですかとかそういったとこを含めてたくさんの意見いただければみんなで解決していこうという会社なので是非プレイリストのことにもたくさん関わっていただけたら嬉しいなって思います中村さんみたいな方がこれからまた入ってきた時に私もこれ悩んだよとかこれうまくいったよとかそういった事例をたくさんお伝えしてほしいなと思うので還元し合えるようにできたらめっちゃ嬉しいなと思っておりますそういった感じでなんとなくプレイリストで働くイメージを持っていただけたら嬉しいなと思うんですけど質問とか聞きたいこととかあります?大丈夫ですありがとうございます大丈夫そうですよ中村さんがクリアになったのは新生とか周りは別部でまとめてやっちゃって説明しても絶対分からない部分がたくさん実際に申請したいという風に出てくると思うので中元に刑費の申請とかは中村さんという4月に入ってきた子がいるんですけど一緒に始めはやりましょうと説明は一回させてもらっているんですけど一緒にやっちゃいましょうという話をしていて画面共有しながら一緒にやるという方法をとらせてもらっているので説明は後日させてもらうんですけど一緒に実践しながらやっていこうという感じなので時々ゆっくり覚えていっていただけたらと思います結構本当にやってみるとこれって何?みたいなことが起こってくると思うので言ってほしいなという感じです話は変わりましたので飲み物を飲んで大丈夫だからね今はプレイリストのことで話させてもらったんですけど次は中村さんのことみたいなお話になってくるんですけどエンジニアって言っても経理の場合だと結構こういう道筋があって最終的に会社の総域計算書が見れるようになったらとかなんとなくゴールが分かりやすいものだったかなって思っているんですけどエンジニアという領域だとドゥンっていうすごい広い領域になってくると思うのでその中で中村さん自身がどういう風になれたらお仕事楽しいと思えるかなとかエンジニアになってよかったなって思えるかなみたいなところとかを一緒に考えていきたいなって思っていてこれからプロジェクト入るにあたっても全然自分が思っていることと違うっていうこととかはなるべく私たちも目線合わせしていきたいなって思っているのでそれでいうロードマップというかキャリアのプランみたいなところを一緒に考えていけたらなって思っていてその説明をしますすいませんそんなに長くないんですけどプロジェクトをやることっていうのがプレイリストに寄せされた中村さん自身が目指すIT技術者どういうところになりたいかなっていうところを話したいので独り立ちできるよう\n",
            "------------\n",
            "与えられた文章を踏まえて、日本語で新入社員向けの育成ロードマップを作成してください与えられた文章が有用でない場合、途中までの文章を返してください\u001b[0m\n",
            "\n",
            "\u001b[1m> Finished chain.\u001b[0m\n",
            "\n",
            "\n",
            "\u001b[1m> Entering new LLMChain chain...\u001b[0m\n",
            "Prompt after formatting:\n",
            "\u001b[32;1m\u001b[1;3mあなたの仕事は最終的な要約を作ることです\n",
            "途中までの要約があります: 新入社員向けの育成ロードマップは以下の通りです。\n",
            "1. 社内ツールやプロジェクト配属先のマニュアルを作成する。\n",
            "2. ロードマップの資料を作成し、新入社員に渡す。\n",
            "3. Discordを活用して連絡を取り合うようにする。\n",
            "\n",
            "Discordは、社内の連絡事項やアナウンス、進捗確認などに活用されます。また、Notionというメモ帳機能も使われているため、こちらも使い方を覚えておく必要があります。\n",
            "\n",
            "新入社員向けの育成ロードマップが作成され、スムーズなオンボーディングが実現されることを期待しています。必要に応じて、社内のツールやプロジェクトについてのマニュアルや、DiscordやNotionの使い方について、先輩社員に質問してください。また、自分で調べたり、試してみたりすることも大切です。\n",
            "必要に応じて下記の文章を使い、さらに良い要約を作成してください\n",
            "------------\n",
            "ることと違うっていうこととかはなるべく私たちも目線合わせしていきたいなって思っているのでそれでいうロードマップというかキャリアのプランみたいなところを一緒に考えていけたらなって思っていてその説明をしますすいませんそんなに長くないんですけどプロジェクトをやることっていうのがプレイリストに寄せされた中村さん自身が目指すIT技術者どういうところになりたいかなっていうところを話したいので独り立ちできるようにするとか円滑に仕事をするための目的で作っていきますプランとして大体できていて一応今のところだと基本的なパソコンスキルみたいなところこの後スキル何が今できて何を学ぼうかなみたいなところを一緒にチェックしていくんだけど大体Excelワードとか基本的なオフィスソフトの使い方っていうところから始めた人たちももちろんいれば大体そこができているなっていうことであればもう1ランクちょっと上に上がっていくみたいなところでスタート位置が人によって変わってくるので大体VBAとかこの辺りまでが未経験レベル1からスタートしようみたいなところになってくるのでぜひレベル1から始まるんだなっていうところだけなんとなく思っていってくださいレベル1で何するかっていうと本当は情報セキュリティというかパソコンやっぱり情報たくさん入っているのでそういったところでリテラシーというかどういったところでセキュリティ守らなきゃいけないんだなっていうところとかビジネス学びやすいさんとかともこれからやると思うんですけど入社する前に顔合わせとかね企業さんと顔合わせとかした時に中村さんとめちゃくちゃ安心はしてるんですけどこういうマナーをしといた方がいいよとかそういうところから始まってあとは本当にITに関する基本的な知識つけたりとかプレイリストの方向性をちゃんと理解していこうというところとかそういった部分からまず最初始まっていきますそんな難しいことは本当にないのでこれも後ほど資料をお渡しできると思うのでやった先に何があるかというとレベル2それこそ2年目3年目くらいになった時にはちょっと一人で開発みたいなところに挑戦するための技術を身につけられるような研修を用意してたりとか最終的には他の人に教えられるような存在になれるような勉強していこうかみたいなところまで目指していただけるので中村さん自身一人で開発して他の人に技術指導しますというところはめっちゃ遠そうに感じるかなと思うのでまずはできるところというか今ちょっと一緒に考えていけたらなというふうに思ってますこのロードマップの作成は後日やるので流れだけお伝えするとしっかり自分が今できること何かなというところの確認とスキルマップと呼ばれる将来1年後とか5年後とかどうなりたいかなというところを一緒に考えて私とか安井さんとかリードの先輩のインジュニアと一緒に振り返って次の目標のために行動を移していくだからここらまで一緒にやっていきたいなと思っているので今すぐやるわけじゃなくてできれば5月中旬とかぐらいにまたちょっとお話の機会いただければそこでちょっと入社してからどうやって仕事を決めていくかというところと一緒に将来に向けてどういう勉強をしていくかみたいなところの計画も一緒に立てれたらなと思ってますただ勉強しすぎるとか仕事忙しいしみたいなところでちょっと悩みすぎてももったいないなと思うので自分の今の適正な量とかを一緒に把握しながらやりたいなというふうに思っていますそんなところでじゃあ言われてもみたいなところがいっぱいフログ付いてるんでちょっと後で資料を見ていただきながら一緒に\n",
            "------------\n",
            "与えられた文章を踏まえて、日本語で新入社員向けの育成ロードマップを作成してください与えられた文章が有用でない場合、途中までの文章を返してください\u001b[0m\n",
            "\n",
            "\u001b[1m> Finished chain.\u001b[0m\n",
            "\n",
            "\n",
            "\u001b[1m> Entering new LLMChain chain...\u001b[0m\n",
            "Prompt after formatting:\n",
            "\u001b[32;1m\u001b[1;3mあなたの仕事は最終的な要約を作ることです\n",
            "途中までの要約があります: 新入社員向けの育成ロードマップは以下の通りです。\n",
            "1. 社内ツールやプロジェクト配属先のマニュアルを作成する。\n",
            "2. ロードマップの資料を作成し、新入社員に渡す。\n",
            "3. Discordを活用して連絡を取り合うようにする。\n",
            "4. パソコンスキルの基礎から学び、情報セキュリティやビジネスマナーなどを身につける。\n",
            "5. スキルマップを作成し、将来の目標を明確にする。\n",
            "6. リードの先輩エンジニアと一緒に振り返り、次の目標のために行動を移す。\n",
            "7. 適正な量の勉強をしながら、自分のスキルアップを目指す。\n",
            "\n",
            "Discordを活用して社内の連絡事項やアナウンス、進捗確認などを行い、Notionを使ってメモを取ることも重要です。また、必要に応じて先輩社員に質問したり、自分で調べたりすることも大切です。\n",
            "\n",
            "このロードマップは、新入社員がスムーズにオンボーディングできるように作成されました。レベル1から始まり、レベル2では一人で開発に挑戦できるような技術を身につけ、最終的には他の人に教えられるような存在になることを目指します。\n",
            "\n",
            "ロードマップの作成は、リードの先輩エンジニアと一緒に行い、将来の目標を明確にし、適正な量の勉強をしながらスキルアップを目指します。資料を見ながら一緒に進めていきましょう。\n",
            "必要に応じて下記の文章を使い、さらに良い要約を作成してください\n",
            "------------\n",
            "めていくかというところと一緒に将来に向けてどういう勉強をしていくかみたいなところの計画も一緒に立てれたらなと思ってますただ勉強しすぎるとか仕事忙しいしみたいなところでちょっと悩みすぎてももったいないなと思うので自分の今の適正な量とかを一緒に把握しながらやりたいなというふうに思っていますそんなところでじゃあ言われてもみたいなところがいっぱいフログ付いてるんでちょっと後で資料を見ていただきながら一緒にどういう進め方がいいかなという話し合いをまたやっていきましょうという説明なのでなんとなくこういうことがあるんだなと思っていただけたら今日のところはもうバッチリという感じでなんとなくイメージつきましたよかったですそういうところを作るところから一緒に伴奏していくのでよろしくお願いしますよろしくお願いしますということでというはずなんですけどさっきのロードマップのところでたぶんがっつり反映するかもしれないですけど半ばさてIT業界に入りたいと思ったきっかけって何だったんですか?これ建前だしのやつ確かにリアルなやつ本当のやつ将来性があって専門的なスキルを身につけたいっていうのが大きくてそこでIT業界に入りましたそうなんですね全然大丈夫ですよ了解しました今から私から話させていただくことが影響のことになります6月にか影響は先行してやってます6月スタートの案件に中村さんがつくようにという動きをしているところなんですねどういう動きをしているかというと中村さんが案件を持っている会社さんで中村さんにこういう中村さんっていうエンジンがいますどうですかっていう提案をしに行くんですねいろいろ募集要項があるんですけど中村さんちょっとお会いしてみたいなってことになった時に面談が組まれるんですね面談が組まれて中村さんすごいいい方だね先方からオファーが来てぜひ僕も参画させていただきたいですでプロジェクトが決まっていくっていう流れになっています私がやっていることでは中村さんの初めの提案をやっています中村さんが頑張るところっていうところがあってそこは面談私が参加できるものはあるんですけど参加できないことがほとんどですし中村さんが自分でこういうことをやってきましたみたいなことを話さなきゃいけない場面っていうのがあるんですねなので面談はちょっと頑張らなきゃいけないっていうところそこからそれ以降は私と先方の会社とのやり取りそんな感じで話が進んでいくと思ってくださいここら辺はこんなにすごい義務基というかめちゃくちゃ理解しなきゃいけないところでもないんですけど私の方から中村さんこんな人がうちにいますというところでスキルシートっていうものを先方の会社にお渡しするんですねそのスキルシートの確認をちょっとさせていただきたいなと思っています一応中村さんの職務協力書をもとに作成をさせていただいているので一応個人情報っていうところもあって向こうにお渡ししているのはこのイニシャルですお渡ししているのでここはちょっと気にしないでください確認したいところが今の現職の内容なんですがまず2022年4月1日から2022年4月1日から2023年5月30日という期間は間違ってない内容なんですけど整理のことをされているんですねその整理処理というところでデータの入力備品の管理発注で処理作成処理整理ファイリングだったり税金の支払いで通帳に金を貸しておりアソリンの補充アソリンの補充ってどういう意味ですか自動車の営業の方とか自分が使っている車のガソリンの補充を指定されたところでのガソリンスタンドができて補充しに行くそこまでするのこれですかめっ\n",
            "------------\n",
            "与えられた文章を踏まえて、日本語で新入社員向けの育成ロードマップを作成してください与えられた文章が有用でない場合、途中までの文章を返してください\u001b[0m\n",
            "\n",
            "\u001b[1m> Finished chain.\u001b[0m\n",
            "\n",
            "\n",
            "\u001b[1m> Entering new LLMChain chain...\u001b[0m\n",
            "Prompt after formatting:\n",
            "\u001b[32;1m\u001b[1;3mあなたの仕事は最終的な要約を作ることです\n",
            "途中までの要約があります: 新入社員向けの育成ロードマップは以下の通りです。\n",
            "1. 社内ツールやプロジェクト配属先のマニュアルを作成する。\n",
            "2. ロードマップの資料を作成し、新入社員に渡す。\n",
            "3. Discordを活用して連絡を取り合うようにする。\n",
            "4. パソコンスキルの基礎から学び、情報セキュリティやビジネスマナーなどを身につける。\n",
            "5. スキルマップを作成し、将来の目標を明確にする。\n",
            "6. リードの先輩エンジニアと一緒に振り返り、次の目標のために行動を移す。\n",
            "7. 適正な量の勉強をしながら、自分のスキルアップを目指す。\n",
            "\n",
            "Discordを活用して社内の連絡事項やアナウンス、進捗確認などを行い、Notionを使ってメモを取ることも重要です。また、必要に応じて先輩社員に質問したり、自分で調べたりすることも大切です。\n",
            "\n",
            "このロードマップは、新入社員がスムーズにオンボーディングできるように作成されました。レベル1から始まり、レベル2では一人で開発に挑戦できるような技術を身につけ、最終的には他の人に教えられるような存在になることを目指します。\n",
            "\n",
            "ロードマップの作成は、リードの先輩エンジニアと一緒に行い、将来の目標を明確にし、適正な量の勉強をしながらスキルアップを目指します。資料を見ながら一緒に進めていきましょう。\n",
            "必要に応じて下記の文章を使い、さらに良い要約を作成してください\n",
            "------------\n",
            "23年5月30日という期間は間違ってない内容なんですけど整理のことをされているんですねその整理処理というところでデータの入力備品の管理発注で処理作成処理整理ファイリングだったり税金の支払いで通帳に金を貸しておりアソリンの補充アソリンの補充ってどういう意味ですか自動車の営業の方とか自分が使っている車のガソリンの補充を指定されたところでのガソリンスタンドができて補充しに行くそこまでするのこれですかめっちゃ優しいね営業さんにそれも業務なんですね業務でした了解しました郵便物の仕分け発送会議室の予約日程調整ファシリティーショーみたいなことをやってました来客対応やったり電話対応やったり雑誌コピーやったりお装備したりとか株足今のところどうですかないですポイントこれ竹井さんが書いてくれたポイントですね業務における手紙の著作成や手作業に行った業務をエクセルで効率化することで性格性と作業効率向上に貢献しました株足があんまりないというところなんですけど逆にこっちがプッシュポイントみたいなものを提案していくときに結構情報がいたりするときにプッシュポイントみたいなところを私が先方の営業さんに推していくポイントみたいなところがあるんですけど前職のここの業務の中で中村さんが一番給力されてたりとか封されてたりとかここ気をつけてましたみたいな私こういうこと得意ですみたいなものがあればちょっと教えていただきたいなっていうところなんですけどそうですね気をつけてたところはデータ入力をしたいので間違いないことを確認しながら送っているところですごく気をつけてました性格な人とっていうところでデータ入力をやったりとか一番大事ですのでそこにするととんでもないことになりますね間違えちゃうというかそうですよね了解しました結構そういった作業みたいなものは苦じゃなかったですか細かい作業は苦じゃなかったですちなみにここのデータ入力をやったりとかの一般でExcelにされてた感じですかねExcelもありました専用のソフトもあってそっちに検証できたりとか専用のソフトってちなみについても大丈夫ですかFXファイルその業界のものですかね私が無知なものでFXファイルFXファイルを使っていてExcelも使ってたりとか使われてたものはありますかないです了解しましたExcel使われてた時に関数って使ってましたか関数は使ってましたそうなんですね例えばどういった関数を使ったのか覚えてる範囲でちょっとだけ教えていただいても簡単な関数なんですけど足し算とかそういうのとかVlookup使ったことは使ってなかったです了解しましたホットテーブル使ってないですOKです業計算っていうところで足したりとか引いたり割ったりみたいなところで計算そして関数を使ってたっていうところですねちなみに集計することとかあったりしましたか集計経理のデータ入力するときに計算間違ってないかなっていう確認を関数使ってやるみたいなこととか関数組まれてると表に入れるとかそういうことってありましたかやってましたそのときの関数の内容って覚えてます?中身それはでも足し算とかなるほどOKめっちゃいいですね了解しましたありがとうございます結構この未経験からのIT評価っていうところでいろんな画期にわたる案件やプロジェクトっていうところがあるんですけど一歩ずつっていうところで一番初めに今の全職の地域を生かせるところから始めていくっていうところがまず第一歩目になってくるところなんですねなのでこういうエクセルが使える方だったりとかよく書かれてるのがコミュニケーション良好な方今中村さんとお話\n",
            "------------\n",
            "与えられた文章を踏まえて、日本語で新入社員向けの育成ロードマップを作成してください与えられた文章が有用でない場合、途中までの文章を返してください\u001b[0m\n",
            "\n",
            "\u001b[1m> Finished chain.\u001b[0m\n",
            "\n",
            "\n",
            "\u001b[1m> Entering new LLMChain chain...\u001b[0m\n",
            "Prompt after formatting:\n",
            "\u001b[32;1m\u001b[1;3mあなたの仕事は最終的な要約を作ることです\n",
            "途中までの要約があります: 新入社員向けの育成ロードマップは以下の通りです。\n",
            "1. 社内ツールやプロジェクト配属先のマニュアルを作成する。\n",
            "2. ロードマップの資料を作成し、新入社員に渡す。\n",
            "3. Discordを活用して連絡を取り合うようにする。\n",
            "4. パソコンスキルの基礎から学び、情報セキュリティやビジネスマナーなどを身につける。\n",
            "5. スキルマップを作成し、将来の目標を明確にする。\n",
            "6. リードの先輩エンジニアと一緒に振り返り、次の目標のために行動を移す。\n",
            "7. 適正な量の勉強をしながら、自分のスキルアップを目指す。\n",
            "\n",
            "このロードマップは、新入社員がスムーズにオンボーディングできるように作成されました。レベル1から始まり、レベル2では一人で開発に挑戦できるような技術を身につけ、最終的には他の人に教えられるような存在になることを目指します。 Discordを活用して社内の連絡事項やアナウンス、進捗確認などを行い、Notionを使ってメモを取ることも重要です。また、必要に応じて先輩社員に質問したり、自分で調べたりすることも大切です。\n",
            "必要に応じて下記の文章を使い、さらに良い要約を作成してください\n",
            "------------\n",
            "めっちゃいいですね了解しましたありがとうございます結構この未経験からのIT評価っていうところでいろんな画期にわたる案件やプロジェクトっていうところがあるんですけど一歩ずつっていうところで一番初めに今の全職の地域を生かせるところから始めていくっていうところがまず第一歩目になってくるところなんですねなのでこういうエクセルが使える方だったりとかよく書かれてるのがコミュニケーション良好な方今中村さんとお話させていただいていてもう全然問題ないかなと思うんですけど全職での地域を生かせてプラスアルファちょっと例えばもう少し他のことにチャレンジができる案件っていうところで見させてもらっているんですねなのでこういった関数使ってましたとか足し算や計算も使ってましたっていう情報をすごい向こうも気になっているところではあるのでそういう情報が今聞けてよかったなっていうところとあと私の中でこういった案件が割と土壇に乗りやすい案件ではあるんですねハイスキルではない案件になってしまうんですねなのですごい応募数が多いっていうところもあってどうしてもスキル勝負になってしまうはじめは私の提案が遅ければ面談につながらなかったりとかそういうところがちょっとそこで勝負させてもらってみたいところもあってなので私の方でスピード感を持ってどんどん中村さんの提案をさせていただきたいちょっとそこだけご了承いただきたいなと思っていますなので中村さんにこの案件どうですかいいですねっていうところをちょっとそこを一回スチップさせてもらって提案からもさせてもらえたらなと思っていてもし中村さんという方に面談させてください面談依頼が来たタイミングで中村さんの方にこういう案件から面談依頼が来てますっていうところに応募させてもらいたいなと思っていますなのでちょっとそこまではスピード感を持って私の方で提案を進めさせていただけたらなとちょっとそこだけご了承よろしくお願いしますでそうですねなんで面談依頼が来たらまたディスコードで面談依頼が来ているのでいつごよさそうですかっていう調整をさせてもらうんですけど今は退職はされてたんでしたっけ5月末で退職で今は休職しています5月末で退職で今は休職しています基本的に面談依頼の勝手においてお入れることはないんですけど面談が調整しやすい時間帯とか平日ってどこに教えてもらっても大丈夫ですかとりやすそうな時間帯みたいないつでも大丈夫です本当ですかはいゆっくり教えてもらってもらってもいいですか了解しましたではちょっと先方との調整で中村さんの方にいついつもちの話をさせてもらって基本的には私の方で把握としては調整はしやすいという風に思っておきます了解しましたで面談依頼で面談練習もちょっとさせていただきたいんですけど面談依頼が来たタイミングでやります概要だけちょっと今お付き合いしても大丈夫ですかがっつり面談練習はちょっと後日一緒にやりましょうはいで2パターンあって対面とオンラインとありますでオンラインが多いのででも対面であってもオンラインだってやることっていうのは変わらない内容としては3つあって先方から案件のこういうことやるよみたいな業務の説明とあと中村さんの方にスキルシートの説明をお願いしますっていうふうに振られます次質量と中村さんからの質量と先方からの質量とっていうこの3つやることとしては中村さんのターンとしては中村さんのスキルの説明っていうところは完全に中村さんのターンなので練習することはスキルの説明をしっかりちゃんと入れるっていうところだけちょっと一緒に今後お礼表させてくださいというところで\n",
            "------------\n",
            "与えられた文章を踏まえて、日本語で新入社員向けの育成ロードマップを作成してください与えられた文章が有用でない場合、途中までの文章を返してください\u001b[0m\n",
            "\n",
            "\u001b[1m> Finished chain.\u001b[0m\n",
            "\n",
            "\n",
            "\u001b[1m> Entering new LLMChain chain...\u001b[0m\n",
            "Prompt after formatting:\n",
            "\u001b[32;1m\u001b[1;3mあなたの仕事は最終的な要約を作ることです\n",
            "途中までの要約があります: 新入社員向けの育成ロードマップは以下の通りです。\n",
            "1. 社内ツールやプロジェクト配属先のマニュアルを作成する。\n",
            "2. ロードマップの資料を作成し、新入社員に渡す。\n",
            "3. Discordを活用して連絡を取り合うようにする。\n",
            "4. パソコンスキルの基礎から学び、情報セキュリティやビジネスマナーなどを身につける。\n",
            "5. スキルマップを作成し、将来の目標を明確にする。\n",
            "6. リードの先輩エンジニアと一緒に振り返り、次の目標のために行動を移す。\n",
            "7. 適正な量の勉強をしながら、自分のスキルアップを目指す。\n",
            "\n",
            "このロードマップは、新入社員がスムーズにオンボーディングできるように作成されました。レベル1から始まり、レベル2では一人で開発に挑戦できるような技術を身につけ、最終的には他の人に教えられるような存在になることを目指します。 Discordを活用して社内の連絡事項やアナウンス、進捗確認などを行い、Notionを使ってメモを取ることも重要です。また、必要に応じて先輩社員に質問したり、自分で調べたりすることも大切です。\n",
            "必要に応じて下記の文章を使い、さらに良い要約を作成してください\n",
            "------------\n",
            "のこういうことやるよみたいな業務の説明とあと中村さんの方にスキルシートの説明をお願いしますっていうふうに振られます次質量と中村さんからの質量と先方からの質量とっていうこの3つやることとしては中村さんのターンとしては中村さんのスキルの説明っていうところは完全に中村さんのターンなので練習することはスキルの説明をしっかりちゃんと入れるっていうところだけちょっと一緒に今後お礼表させてくださいというところですかねそんな感じでその時にがっつりやりますかそうしましょう流れなんとなくわかりましたわかりました基本的にはエンジニアさんがいてこういう営業さんがいろんなプロジェクトをどれ合うかなどれがいいかなと思いながら投げてそこでマッチしたらしるべん断してそうですわかりましたもちろん2人とも良いなって思い両思いになればそのままマッチング成立なんでプロジェクト先にいつからいきましょうっていう流れになるのでプロジェクトが6月に入社のタイミングから決まってほしいなって思っているのでそんな感じですではスキーを私の方で先行して動かせてもらってはいるんですけど例えば面談させてもらって中村さんの中でこの案件ちょっと難しそうですっていうことがあれば断るタイミングって面談終わったらあげても全然断るタイミングがあるのでちょっとそこで私とヒアリングをさせてもらいながらっていう感じで三角引いたっては進めさせていただこうかなと思っていますはい逆に不安点質問点とかありますかいろいろと大丈夫です大丈夫ですかありがとうございますゆかは素敵な本当にねでもお仕事する時ってスキルとか技術とか前提大事なんですけどやっぱりこの人とお仕事したいなっていうのは大前提大事なので本当にこれが意味で言うと本当にめちゃくちゃ安心感してるみたいな気持ちがあるんですけどいや本当に最後は人柄みたいなところあるんでそれでもスキルシートせっかく作るのであればちょっとでもこれやってきましたって言えるような準備をしたいなってところで多分面接練習やったりとかちょっと勉強しておこうじゃないんですけど例えばこの関数見たことありますみたいな状態と全く知りませんだと印象大分違うと思うのでなんか給食中の間多分勉強されたりとかしたいなって思います本当にそしたらこのサイト見とくといいよみたいなのがあるのでもしかしたらお渡ししたりとかもできるかなと思っているのでそしたら本当に入社前になってしまって恐縮なんですけど連絡していいって思ってもいいですか?映像のこととかこういうこの間オフィスバージョン何使ってるかって言うのをちょっと投げ立ててもらったんですけどあれもちょっと案件があってっていうところでオフィスの365を使ってないとダメっていうところだったんでバージョンないかなっていう風にちょっと伺わせてもらったんですけどああいう風にちょっとポンポンポンポンやり取りをさせていただけるとありがたいなとずっと連絡させてくださいよろしくお願いします新しい業界だとまた文化違いすぎみたいなところ絶対出てくるのでちょっと一緒に頑張りましょうよろしくお願いします私からは以上になります小鞘さんもどうですか?大丈夫ですちょっと時間あるのであればロードマップっていうか一緒にちょっと早めに考えてじゃあ今のうちこれ勉強しとこうかみたいなの別に業務じゃないんです教育じゃないのでちょっとそれ早めに考えてもいいかもって今思ってるので私もまた連絡しますねありがとうございます最後ちょっと武井さんが最後にって言われてたんでちょっと連絡しますね\n",
            "------------\n",
            "与えられた文章を踏まえて、日本語で新入社員向けの育成ロードマップを作成してください与えられた文章が有用でない場合、途中までの文章を返してください\u001b[0m\n",
            "\n",
            "\u001b[1m> Finished chain.\u001b[0m\n",
            "\n",
            "\u001b[1m> Finished chain.\u001b[0m\n"
          ]
        },
        {
          "output_type": "execute_result",
          "data": {
            "text/plain": [
              "'新入社員向けの育成ロードマップは以下の通りです。\\n1. 社内ツールやプロジェクト配属先のマニュアルを作成する。\\n2. ロードマップの資料を作成し、新入社員に渡す。\\n3. Discordを活用して連絡を取り合うようにする。\\n4. パソコンスキルの基礎から学び、情報セキュリティやビジネスマナーなどを身につける。\\n5. スキルマップを作成し、将来の目標を明確にする。\\n6. リードの先輩エンジニアと一緒に振り返り、次の目標のために行動を移す。\\n7. 適正な量の勉強をしながら、自分のスキルアップを目指す。\\n\\nこのロードマップは、新入社員がスムーズにオンボーディングできるように作成されました。レベル1から始まり、レベル2では一人で開発に挑戦できるような技術を身につけ、最終的には他の人に教えられるような存在になることを目指します。 Discordを活用して社内の連絡事項やアナウンス、進捗確認などを行い、Notionを使ってメモを取ることも重要です。また、必要に応じて先輩社員に質問したり、自分で調べたりすることも大切です。'"
            ],
            "application/vnd.google.colaboratory.intrinsic+json": {
              "type": "string"
            }
          },
          "metadata": {},
          "execution_count": 46
        }
      ]
    }
  ],
  "metadata": {
    "accelerator": "GPU",
    "colab": {
      "provenance": [],
      "authorship_tag": "ABX9TyOeA7vzele/aa6e7p7A/Y8D",
      "include_colab_link": true
    },
    "gpuClass": "standard",
    "kernelspec": {
      "display_name": "Python 3",
      "name": "python3"
    },
    "language_info": {
      "name": "python"
    }
  },
  "nbformat": 4,
  "nbformat_minor": 0
}
